{
  "cells": [
    {
      "cell_type": "markdown",
      "metadata": {
        "id": "view-in-github",
        "colab_type": "text"
      },
      "source": [
        "<a href=\"https://colab.research.google.com/github/subhram260/Python-ML-Training/blob/main/Python%20Machine%20learning%20Day-1.ipynb\" target=\"_parent\"><img src=\"https://colab.research.google.com/assets/colab-badge.svg\" alt=\"Open In Colab\"/></a>"
      ]
    },
    {
      "cell_type": "code",
      "execution_count": null,
      "id": "b27fb37b",
      "metadata": {
        "id": "b27fb37b",
        "outputId": "fa53811d-445e-4d94-de96-70ab2c22ff07"
      },
      "outputs": [
        {
          "name": "stdout",
          "output_type": "stream",
          "text": [
            "Enter a: 4\n",
            "Enter b: 34\n",
            "38\n"
          ]
        }
      ],
      "source": [
        "#eval() accepts both int and float type data\n",
        "\n",
        "a=eval(input(\"Enter a: \"))\n",
        "b=eval(input(\"Enter b: \"))\n",
        "print(a+b)\n",
        "\n"
      ]
    },
    {
      "cell_type": "code",
      "execution_count": null,
      "id": "4869d4b5",
      "metadata": {
        "id": "4869d4b5",
        "outputId": "c43fe6dd-0477-461d-a5f4-4ed268d68604"
      },
      "outputs": [
        {
          "data": {
            "text/plain": [
              "'Abcde Dbbfvdf'"
            ]
          },
          "execution_count": 11,
          "metadata": {},
          "output_type": "execute_result"
        }
      ],
      "source": [
        "a=\"abcde\"\n",
        "b=\"dbbfvdf\"\n",
        "name=a.capitalize()+\" \"+b.capitalize()\n",
        "name\n",
        "\n"
      ]
    },
    {
      "cell_type": "markdown",
      "id": "cb37cf0a",
      "metadata": {
        "id": "cb37cf0a"
      },
      "source": [
        "## Reverse string"
      ]
    },
    {
      "cell_type": "code",
      "execution_count": null,
      "id": "bd1769cd",
      "metadata": {
        "id": "bd1769cd",
        "outputId": "0e66a6c2-7bf9-4892-d2e4-0b14cb2a48d0"
      },
      "outputs": [
        {
          "data": {
            "text/plain": [
              "'edcba'"
            ]
          },
          "execution_count": 8,
          "metadata": {},
          "output_type": "execute_result"
        }
      ],
      "source": [
        "a=\"abcde\"\n",
        "a[::-1]"
      ]
    },
    {
      "cell_type": "markdown",
      "id": "8cac15fa",
      "metadata": {
        "id": "8cac15fa"
      },
      "source": [
        "## splitting string by space"
      ]
    },
    {
      "cell_type": "code",
      "execution_count": null,
      "id": "551287df",
      "metadata": {
        "id": "551287df",
        "outputId": "6d91e019-a8db-45cf-a3f6-e4b4cae4b454"
      },
      "outputs": [
        {
          "data": {
            "text/plain": [
              "['ABC', 'DEF', 'GHI']"
            ]
          },
          "execution_count": 9,
          "metadata": {},
          "output_type": "execute_result"
        }
      ],
      "source": [
        "str1=\"ABC DEF GHI\"\n",
        "str1.split()"
      ]
    },
    {
      "cell_type": "code",
      "execution_count": null,
      "id": "55ead8cd",
      "metadata": {
        "id": "55ead8cd",
        "outputId": "b55c1a30-8d64-4e95-cb59-a233b5f4f0bd"
      },
      "outputs": [
        {
          "data": {
            "text/plain": [
              "['ABC', 'DEF', 'GHI']"
            ]
          },
          "execution_count": 10,
          "metadata": {},
          "output_type": "execute_result"
        }
      ],
      "source": [
        "str1=\"ABC-DEF-GHI\"\n",
        "str1.split(\"-\")"
      ]
    },
    {
      "cell_type": "markdown",
      "id": "a0e1e09a",
      "metadata": {
        "id": "a0e1e09a"
      },
      "source": [
        "## Counting characters"
      ]
    },
    {
      "cell_type": "code",
      "execution_count": null,
      "id": "41cd71bf",
      "metadata": {
        "id": "41cd71bf",
        "outputId": "86731b0b-f794-4541-f016-04fafbf69f46"
      },
      "outputs": [
        {
          "name": "stdout",
          "output_type": "stream",
          "text": [
            "3\n"
          ]
        }
      ],
      "source": [
        "name=\"anknnnjjbnohi\"\n",
        "vow=\"aeiouAEIOU\"\n",
        "count=0\n",
        "for i in name:\n",
        "    if i in vow:\n",
        "        count+=1\n",
        "print(count)        "
      ]
    },
    {
      "cell_type": "code",
      "execution_count": null,
      "id": "641b2c05",
      "metadata": {
        "id": "641b2c05",
        "outputId": "40cc2bd2-1698-4bdf-82b0-1c9415517e1b"
      },
      "outputs": [
        {
          "name": "stdout",
          "output_type": "stream",
          "text": [
            "aXbd\n"
          ]
        }
      ],
      "source": [
        "str2=\"acbd\"\n",
        "newstr=\"\"\n",
        "for i in str2:\n",
        "    if i==\"c\":\n",
        "        newstr+=\"X\"\n",
        "    else:\n",
        "        newstr+=i\n",
        "print(newstr)        "
      ]
    },
    {
      "cell_type": "markdown",
      "id": "39828dc2",
      "metadata": {
        "id": "39828dc2"
      },
      "source": [
        "# write a program to replace all the vowels in a following string"
      ]
    },
    {
      "cell_type": "code",
      "execution_count": null,
      "id": "eb12ab45",
      "metadata": {
        "id": "eb12ab45",
        "outputId": "c098a8bb-edbd-41ad-803c-b10c2470b366"
      },
      "outputs": [
        {
          "name": "stdout",
          "output_type": "stream",
          "text": [
            "XccgdhdXpd\n"
          ]
        }
      ],
      "source": [
        "name=\"accgdhdipd\"\n",
        "vow=\"aeiouAEIOU\"\n",
        "newstr=\"\"\n",
        "for i in name:\n",
        "    if i in vow:\n",
        "        newstr+=\"X\"\n",
        "    else:\n",
        "        newstr+=i  \n",
        "print(newstr)     "
      ]
    },
    {
      "cell_type": "markdown",
      "id": "f0a21c09",
      "metadata": {
        "id": "f0a21c09"
      },
      "source": [
        "# Some important methods of string"
      ]
    },
    {
      "cell_type": "code",
      "execution_count": null,
      "id": "e8303c45",
      "metadata": {
        "id": "e8303c45",
        "outputId": "f56c4d58-db8d-4257-ce0a-586c15d4cceb"
      },
      "outputs": [
        {
          "data": {
            "text/plain": [
              "'ABCDE'"
            ]
          },
          "execution_count": 21,
          "metadata": {},
          "output_type": "execute_result"
        }
      ],
      "source": [
        "str1=\"abcde\"\n",
        "str1.upper()"
      ]
    },
    {
      "cell_type": "code",
      "execution_count": null,
      "id": "74266c34",
      "metadata": {
        "id": "74266c34",
        "outputId": "5e45f54b-a00e-44c6-fd85-c5b9677ca16a"
      },
      "outputs": [
        {
          "data": {
            "text/plain": [
              "'abcde'"
            ]
          },
          "execution_count": 22,
          "metadata": {},
          "output_type": "execute_result"
        }
      ],
      "source": [
        "str1.lower()"
      ]
    },
    {
      "cell_type": "code",
      "execution_count": null,
      "id": "19ecffb2",
      "metadata": {
        "id": "19ecffb2",
        "outputId": "a4a4fd7b-1a51-4c83-e9e7-a7b707cdb417"
      },
      "outputs": [
        {
          "name": "stdout",
          "output_type": "stream",
          "text": [
            "False\n",
            "False\n",
            "False\n"
          ]
        }
      ],
      "source": [
        "str1=\"abcd1234##$$\"\n",
        "print(str1.isdigit())\n",
        "print(str1.isalnum())\n",
        "print(str1.isalpha())"
      ]
    },
    {
      "cell_type": "markdown",
      "id": "d51239fa",
      "metadata": {
        "id": "d51239fa"
      },
      "source": [
        "# How to check it contains special characters "
      ]
    },
    {
      "cell_type": "code",
      "execution_count": null,
      "id": "8dec49b8",
      "metadata": {
        "id": "8dec49b8",
        "outputId": "d530dd7e-3216-4b3f-a3a6-04cb69027be0"
      },
      "outputs": [
        {
          "name": "stdout",
          "output_type": "stream",
          "text": [
            "str1 not contains special characters\n"
          ]
        }
      ],
      "source": [
        "str1=\"abcd1234\"\n",
        "if str1.isalnum()==False:\n",
        "    print(\"str1 contains special characters\")\n",
        "else:\n",
        "    print(\"str1 not contains special characters\")"
      ]
    },
    {
      "cell_type": "markdown",
      "id": "bf70480f",
      "metadata": {
        "id": "bf70480f"
      },
      "source": [
        "## Introduction to list"
      ]
    },
    {
      "cell_type": "code",
      "execution_count": null,
      "id": "35c76a1a",
      "metadata": {
        "id": "35c76a1a",
        "outputId": "8725914b-430f-4c46-9aef-4681918a732f"
      },
      "outputs": [
        {
          "name": "stdout",
          "output_type": "stream",
          "text": [
            "[1, 2, 3, 4, 'abc', 'def']\n"
          ]
        }
      ],
      "source": [
        "lst=[1,2,3,4,\"abc\",\"def\"]\n",
        "print(lst)"
      ]
    },
    {
      "cell_type": "code",
      "execution_count": null,
      "id": "d324b092",
      "metadata": {
        "id": "d324b092",
        "outputId": "61c745ee-ba6b-44f3-e3da-14896240e5e5"
      },
      "outputs": [
        {
          "name": "stdout",
          "output_type": "stream",
          "text": [
            "1 2 3 4 abc def\n"
          ]
        }
      ],
      "source": [
        "print(*lst)"
      ]
    },
    {
      "cell_type": "code",
      "execution_count": null,
      "id": "8247b32e",
      "metadata": {
        "id": "8247b32e",
        "outputId": "169515e0-57bb-44e4-c969-92f7b61f4b38"
      },
      "outputs": [
        {
          "name": "stdout",
          "output_type": "stream",
          "text": [
            "1\n",
            "2\n",
            "3\n",
            "4\n",
            "abc\n",
            "def\n"
          ]
        }
      ],
      "source": [
        "print(*lst,sep=\"\\n\")"
      ]
    },
    {
      "cell_type": "code",
      "execution_count": null,
      "id": "56c481ae",
      "metadata": {
        "id": "56c481ae",
        "outputId": "560f1a28-0504-4c4a-995b-b50ba040e7c0"
      },
      "outputs": [
        {
          "name": "stdout",
          "output_type": "stream",
          "text": [
            "3.0\n"
          ]
        }
      ],
      "source": [
        "lst3=[1,2,4,6,2,3,0,6,3]\n",
        "lst3.sort(reverse=True)\n",
        "lst3\n",
        "print(sum(lst3)/len(lst3))"
      ]
    },
    {
      "cell_type": "markdown",
      "id": "3d95ddea",
      "metadata": {
        "id": "3d95ddea"
      },
      "source": [
        "# find the median of lst3"
      ]
    },
    {
      "cell_type": "code",
      "execution_count": null,
      "id": "87f469c4",
      "metadata": {
        "id": "87f469c4",
        "outputId": "abb37418-1a2a-4c10-99a1-88dceae8ab95"
      },
      "outputs": [
        {
          "name": "stdout",
          "output_type": "stream",
          "text": [
            "[1, 2, 3, 3, 6, 6, 7, 9]\n",
            "Median of the list is:  4.5\n"
          ]
        }
      ],
      "source": [
        "import math\n",
        "lst3=[1,6,3,7,9,6,3,2]\n",
        "lst3.sort()\n",
        "print(lst3)\n",
        "if len(lst3)%2!=0:\n",
        "    mid=len(lst3)/2\n",
        "    medn=lst3[mid]\n",
        "elif len(lst3)%2==0:\n",
        "    mid1=math.floor(len(lst3)/2)-1\n",
        "    mid2=math.ceil(len(lst3)/2)\n",
        "    medn=(lst3[mid1]+lst3[mid2])/2\n",
        "print(\"Median of the list is: \",medn)    "
      ]
    },
    {
      "cell_type": "markdown",
      "id": "3766c10f",
      "metadata": {
        "id": "3766c10f"
      },
      "source": [
        "# Important method in list"
      ]
    },
    {
      "cell_type": "code",
      "execution_count": null,
      "id": "26b39ff3",
      "metadata": {
        "id": "26b39ff3",
        "outputId": "9e4986d1-b70f-4f29-c813-e446cd6fd3ee"
      },
      "outputs": [
        {
          "data": {
            "text/plain": [
              "[1, 2, 3, 4, 5, 20]"
            ]
          },
          "execution_count": 44,
          "metadata": {},
          "output_type": "execute_result"
        }
      ],
      "source": [
        "lst=[1,2,3,4,5]\n",
        "lst.append(20)\n",
        "lst"
      ]
    },
    {
      "cell_type": "code",
      "execution_count": null,
      "id": "58069310",
      "metadata": {
        "id": "58069310",
        "outputId": "60a20839-2fd5-420c-fb0d-79d16a95b93f"
      },
      "outputs": [
        {
          "data": {
            "text/plain": [
              "[100, 1, 2, 3, 4, 5, 20]"
            ]
          },
          "execution_count": 45,
          "metadata": {},
          "output_type": "execute_result"
        }
      ],
      "source": [
        "lst.insert(0,100) ## (index,value)\n",
        "lst"
      ]
    },
    {
      "cell_type": "code",
      "execution_count": null,
      "id": "158be4de",
      "metadata": {
        "id": "158be4de",
        "outputId": "c0d9a7ec-73f6-4bd1-cf3f-cf9be13dd32d"
      },
      "outputs": [
        {
          "name": "stdout",
          "output_type": "stream",
          "text": [
            "[1, 2, 3, 4, 5, 6, 7, 8]\n"
          ]
        }
      ],
      "source": [
        "lst1=[1,2,3,4]\n",
        "lst2=[5,6,7,8]\n",
        "print(lst1+lst2)"
      ]
    },
    {
      "cell_type": "code",
      "execution_count": null,
      "id": "c3a984ab",
      "metadata": {
        "id": "c3a984ab",
        "outputId": "cf004435-c89d-41e8-93f0-a56c7edeb90e"
      },
      "outputs": [
        {
          "data": {
            "text/plain": [
              "[1, 2, 3, 4, 5, 6, 7, 8]"
            ]
          },
          "execution_count": 60,
          "metadata": {},
          "output_type": "execute_result"
        }
      ],
      "source": [
        "lst1.extend(lst2)\n",
        "lst1"
      ]
    },
    {
      "cell_type": "code",
      "execution_count": null,
      "id": "98b0736c",
      "metadata": {
        "id": "98b0736c",
        "outputId": "7538c02b-0b79-4d4d-d982-a9fb4f24b795"
      },
      "outputs": [
        {
          "data": {
            "text/plain": [
              "[1, 2, 4, 5, 6, 7, 8, 5, 6, 7, 8]"
            ]
          },
          "execution_count": 50,
          "metadata": {},
          "output_type": "execute_result"
        }
      ],
      "source": [
        "lst1.remove(3)\n",
        "lst1"
      ]
    },
    {
      "cell_type": "code",
      "execution_count": null,
      "id": "f065be48",
      "metadata": {
        "id": "f065be48",
        "outputId": "fb34163a-3067-4d37-d426-6ca5f975cbee"
      },
      "outputs": [
        {
          "data": {
            "text/plain": [
              "8"
            ]
          },
          "execution_count": 51,
          "metadata": {},
          "output_type": "execute_result"
        }
      ],
      "source": [
        "lst1.pop()"
      ]
    },
    {
      "cell_type": "code",
      "execution_count": null,
      "id": "f004e1cb",
      "metadata": {
        "id": "f004e1cb",
        "outputId": "39f11e39-9069-4e56-fd4d-0e5a4b76144a"
      },
      "outputs": [
        {
          "data": {
            "text/plain": [
              "7"
            ]
          },
          "execution_count": 65,
          "metadata": {},
          "output_type": "execute_result"
        }
      ],
      "source": [
        "lst1.pop(-1)"
      ]
    },
    {
      "cell_type": "code",
      "execution_count": null,
      "id": "66a1a74f",
      "metadata": {
        "id": "66a1a74f",
        "outputId": "d1c2b54c-fef7-42fa-cfcf-e076ea35e497"
      },
      "outputs": [
        {
          "data": {
            "text/plain": [
              "1"
            ]
          },
          "execution_count": 62,
          "metadata": {},
          "output_type": "execute_result"
        }
      ],
      "source": [
        "lst1.count(3)"
      ]
    },
    {
      "cell_type": "code",
      "execution_count": null,
      "id": "0a138c51",
      "metadata": {
        "id": "0a138c51",
        "outputId": "2224fdc2-f18a-47d4-cdbd-1618886b7f2f"
      },
      "outputs": [
        {
          "data": {
            "text/plain": [
              "2"
            ]
          },
          "execution_count": 63,
          "metadata": {},
          "output_type": "execute_result"
        }
      ],
      "source": [
        "lst1.index(3)"
      ]
    },
    {
      "cell_type": "markdown",
      "id": "392349f1",
      "metadata": {
        "id": "392349f1"
      },
      "source": [
        "# Introduction to Dictonary \n"
      ]
    },
    {
      "cell_type": "markdown",
      "id": "af753302",
      "metadata": {
        "id": "af753302"
      },
      "source": [
        "### dict={\"key\":\"value\"}"
      ]
    },
    {
      "cell_type": "code",
      "execution_count": null,
      "id": "2f8b1932",
      "metadata": {
        "id": "2f8b1932",
        "outputId": "5c0b055b-a696-4ae5-afc8-c428d62e25fb"
      },
      "outputs": [
        {
          "name": "stdout",
          "output_type": "stream",
          "text": [
            "{'name': ['ABC', 'DEF', 'GHI']}\n",
            "{'name': ['ABC', 'DEF', 'GHI'], 'dict2': {'num': '123'}}\n"
          ]
        }
      ],
      "source": [
        "dict1={}\n",
        "dict1[\"name\"]=[\"ABC\",\"DEF\",\"GHI\"]\n",
        "print(dict1)\n",
        "dict1[\"dict2\"]={\"num\":\"123\"}\n",
        "print(dict1)"
      ]
    },
    {
      "cell_type": "code",
      "execution_count": null,
      "id": "342f3507",
      "metadata": {
        "id": "342f3507",
        "outputId": "cd857df3-6f5b-48d2-8da6-c816500dfa7b"
      },
      "outputs": [
        {
          "name": "stdout",
          "output_type": "stream",
          "text": [
            "Before Update\n",
            "{'A': 100, 'B': 200}\n",
            "After Update\n",
            "{'A': 300, 'B': 200, 'C': 400}\n"
          ]
        }
      ],
      "source": [
        "d1={\"A\":100,\"B\":200}\n",
        "d2={\"A\":300,\"C\":400}\n",
        "print(\"Before Update\")\n",
        "print(d1)\n",
        "print(\"After Update\")\n",
        "d1.update(d2)\n",
        "print(d1)"
      ]
    },
    {
      "cell_type": "markdown",
      "id": "1d3e8671",
      "metadata": {
        "id": "1d3e8671"
      },
      "source": [
        "# Write a program to insert the details of 4 student by the following key details:\n"
      ]
    },
    {
      "cell_type": "markdown",
      "id": "de5d2e29",
      "metadata": {
        "id": "de5d2e29"
      },
      "source": [
        "1.Name: [\"ABC\",\"DEF\"]\n"
      ]
    },
    {
      "cell_type": "markdown",
      "id": "6307ce49",
      "metadata": {
        "id": "6307ce49"
      },
      "source": [
        "2.Roll:[23,45]\n"
      ]
    },
    {
      "cell_type": "markdown",
      "id": "fdf7b285",
      "metadata": {
        "id": "fdf7b285"
      },
      "source": [
        "3.stream:[\"CSE\",\"ECE\"]\n"
      ]
    },
    {
      "cell_type": "markdown",
      "id": "71d01482",
      "metadata": {
        "id": "71d01482"
      },
      "source": [
        "\n",
        "4.Marks:[45,43]"
      ]
    },
    {
      "cell_type": "code",
      "execution_count": null,
      "id": "8def7e9e",
      "metadata": {
        "id": "8def7e9e",
        "outputId": "996cfa54-ff3b-4819-fc65-e43f4c49854a"
      },
      "outputs": [
        {
          "name": "stdout",
          "output_type": "stream",
          "text": [
            "\n",
            "\n",
            "Enter your name : subhram\n",
            "Enter your roll no : 23\n",
            "Enter your stream : CSE\n",
            "Enter your mark : 564\n",
            "\n",
            "\n",
            "Enter your name : raj\n",
            "Enter your roll no : 43\n",
            "Enter your stream : CSE\n",
            "Enter your mark : 76\n",
            "\n",
            "\n",
            "Enter your name : Rahul\n",
            "Enter your roll no : 65\n",
            "Enter your stream : EEE\n",
            "Enter your mark : 65\n",
            "\n",
            "\n",
            "Enter your name : Manas\n",
            "Enter your roll no : 54\n",
            "Enter your stream : ECE\n",
            "Enter your mark : 64\n",
            "{'Name': ['subhram', 'raj', 'Rahul', 'Manas'], 'Roll': ['23', '43', '65', '54'], 'Stream': ['CSE', 'CSE', 'EEE', 'ECE'], 'Marks': [564, 76, 65, 64]}\n"
          ]
        }
      ],
      "source": [
        "n=[];r=[];s=[];m=[]\n",
        "for i in range(4):\n",
        "    print(\"\\n\")\n",
        "    n.append(input(\"Enter your name : \"))\n",
        "    r.append(input(\"Enter your roll no : \"))\n",
        "    s.append(input(\"Enter your stream : \"))\n",
        "    m.append(eval(input(\"Enter your mark : \")))\n",
        "student={}    \n",
        "student[\"Name\"]=n\n",
        "student[\"Roll\"]=r\n",
        "student[\"Stream\"]=s\n",
        "student[\"Marks\"]=m\n",
        "print(student)\n"
      ]
    },
    {
      "cell_type": "code",
      "execution_count": null,
      "id": "1377ceb9",
      "metadata": {
        "id": "1377ceb9",
        "outputId": "5abeb529-c691-41b7-94a3-ecf2853b8afe"
      },
      "outputs": [
        {
          "name": "stdout",
          "output_type": "stream",
          "text": [
            "Enter your name : subhram\n",
            "Enter your roll no : 23\n",
            "Enter your stream : cse\n",
            "Enter your mark : 34\n",
            "Enter your name : abhishek\n",
            "Enter your roll no : 45\n",
            "Enter your stream : cse\n",
            "Enter your mark : 33\n",
            "Enter your name : sourav\n",
            "Enter your roll no : 45\n",
            "Enter your stream : eee\n",
            "Enter your mark : 445\n",
            "Enter your name : raj\n",
            "Enter your roll no : 65\n",
            "Enter your stream : eee\n",
            "Enter your mark : 23\n"
          ]
        }
      ],
      "source": [
        "dct={\"Name\":[],\"Roll\":[],\"Stream\":[],\"Marks\":[]}\n",
        "for i in range(4):\n",
        "    dct.get(\"Name\").append(input(\"Enter your name : \"))\n",
        "    dct.get(\"Roll\").append(input(\"Enter your roll no : \"))    \n",
        "    dct.get(\"Stream\").append(input(\"Enter your stream : \"))    \n",
        "    dct.get(\"Marks\").append(eval(input(\"Enter your mark : \")))    "
      ]
    },
    {
      "cell_type": "code",
      "execution_count": null,
      "id": "58454d02",
      "metadata": {
        "id": "58454d02",
        "outputId": "22a95501-52df-4a84-bb44-86fc50d64071"
      },
      "outputs": [
        {
          "data": {
            "text/plain": [
              "{'Name': ['subhram', 'abhishek', 'sourav', 'raj'],\n",
              " 'Roll': ['23', '45', '45', '65'],\n",
              " 'Stream': ['cse', 'cse', 'eee', 'eee'],\n",
              " 'Marks': [34, 33, 445, 23]}"
            ]
          },
          "execution_count": 84,
          "metadata": {},
          "output_type": "execute_result"
        }
      ],
      "source": [
        "dct"
      ]
    },
    {
      "cell_type": "markdown",
      "id": "3106321e",
      "metadata": {
        "id": "3106321e"
      },
      "source": [
        "# Introduction to array"
      ]
    },
    {
      "cell_type": "code",
      "execution_count": null,
      "id": "fc712c4a",
      "metadata": {
        "id": "fc712c4a"
      },
      "outputs": [],
      "source": [
        "import numpy as np"
      ]
    },
    {
      "cell_type": "code",
      "execution_count": null,
      "id": "d19754ff",
      "metadata": {
        "id": "d19754ff",
        "outputId": "d42ab1f7-31cb-4db1-c5d8-919fd1682db1"
      },
      "outputs": [
        {
          "name": "stdout",
          "output_type": "stream",
          "text": [
            "[1 2 3 4 5]\n"
          ]
        }
      ],
      "source": [
        "lst=[1,2,3,4,5]\n",
        "arr=np.array(lst)\n",
        "print(arr)"
      ]
    },
    {
      "cell_type": "code",
      "execution_count": null,
      "id": "c415b1c7",
      "metadata": {
        "id": "c415b1c7",
        "outputId": "c375d2b4-1acf-415a-c419-c9ef5d2b8167"
      },
      "outputs": [
        {
          "name": "stdout",
          "output_type": "stream",
          "text": [
            "['1' '3' '2.3' '23' 'abc']\n"
          ]
        }
      ],
      "source": [
        "lst1=[1,3,2.3,23,\"abc\"]\n",
        "print(np.array(lst1))"
      ]
    },
    {
      "cell_type": "code",
      "execution_count": null,
      "id": "f5b28eac",
      "metadata": {
        "id": "f5b28eac",
        "outputId": "1d1b45dd-0240-4f7f-e742-fcbff220a838"
      },
      "outputs": [
        {
          "data": {
            "text/plain": [
              "array([[1, 2, 7],\n",
              "       [4, 5, 6],\n",
              "       [7, 8, 9]])"
            ]
          },
          "execution_count": 100,
          "metadata": {},
          "output_type": "execute_result"
        }
      ],
      "source": [
        "lst2=[[1,2,7],[4,5,6],[7,8,9]]\n",
        "arr=np.array(lst2)\n",
        "arr"
      ]
    },
    {
      "cell_type": "code",
      "execution_count": null,
      "id": "4634000d",
      "metadata": {
        "id": "4634000d",
        "outputId": "c0e83ffd-9346-4f9f-a3d5-3f1b23665213"
      },
      "outputs": [
        {
          "name": "stdout",
          "output_type": "stream",
          "text": [
            "[7 5 7]\n"
          ]
        },
        {
          "data": {
            "text/plain": [
              "19"
            ]
          },
          "execution_count": 113,
          "metadata": {},
          "output_type": "execute_result"
        }
      ],
      "source": [
        "print(np.diagonal(arr[::-1]))\n",
        "sum(np.diagonal(arr[::-1]))"
      ]
    },
    {
      "cell_type": "code",
      "execution_count": null,
      "id": "a1dc1532",
      "metadata": {
        "id": "a1dc1532",
        "outputId": "d52f8da9-c76d-4316-e3cf-96a38ca217ba"
      },
      "outputs": [
        {
          "data": {
            "text/plain": [
              "19"
            ]
          },
          "execution_count": 114,
          "metadata": {},
          "output_type": "execute_result"
        }
      ],
      "source": [
        "sum(np.flip(arr,axis=1).diagonal())"
      ]
    },
    {
      "cell_type": "code",
      "execution_count": null,
      "id": "558d11e2",
      "metadata": {
        "id": "558d11e2"
      },
      "outputs": [],
      "source": [
        ""
      ]
    }
  ],
  "metadata": {
    "kernelspec": {
      "display_name": "Python 3 (ipykernel)",
      "language": "python",
      "name": "python3"
    },
    "language_info": {
      "codemirror_mode": {
        "name": "ipython",
        "version": 3
      },
      "file_extension": ".py",
      "mimetype": "text/x-python",
      "name": "python",
      "nbconvert_exporter": "python",
      "pygments_lexer": "ipython3",
      "version": "3.9.7"
    },
    "colab": {
      "name": "Ml-1.ipynb",
      "provenance": [],
      "include_colab_link": true
    }
  },
  "nbformat": 4,
  "nbformat_minor": 5
}