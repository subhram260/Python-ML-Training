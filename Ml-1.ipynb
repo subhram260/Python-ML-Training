{
 "cells": [
  {
   "cell_type": "code",
   "execution_count": 3,
   "id": "b27fb37b",
   "metadata": {},
   "outputs": [
    {
     "name": "stdout",
     "output_type": "stream",
     "text": [
      "Enter a: 4\n",
      "Enter b: 34\n",
      "38\n"
     ]
    }
   ],
   "source": [
    "#eval() accepts both int and float type data\n",
    "\n",
    "a=eval(input(\"Enter a: \"))\n",
    "b=eval(input(\"Enter b: \"))\n",
    "print(a+b)\n",
    "\n"
   ]
  },
  {
   "cell_type": "code",
   "execution_count": 11,
   "id": "4869d4b5",
   "metadata": {},
   "outputs": [
    {
     "data": {
      "text/plain": [
       "'Abcde Dbbfvdf'"
      ]
     },
     "execution_count": 11,
     "metadata": {},
     "output_type": "execute_result"
    }
   ],
   "source": [
    "a=\"abcde\"\n",
    "b=\"dbbfvdf\"\n",
    "name=a.capitalize()+\" \"+b.capitalize()\n",
    "name\n",
    "\n"
   ]
  },
  {
   "cell_type": "markdown",
   "id": "cb37cf0a",
   "metadata": {},
   "source": [
    "## Reverse string"
   ]
  },
  {
   "cell_type": "code",
   "execution_count": 8,
   "id": "bd1769cd",
   "metadata": {},
   "outputs": [
    {
     "data": {
      "text/plain": [
       "'edcba'"
      ]
     },
     "execution_count": 8,
     "metadata": {},
     "output_type": "execute_result"
    }
   ],
   "source": [
    "a=\"abcde\"\n",
    "a[::-1]"
   ]
  },
  {
   "cell_type": "markdown",
   "id": "8cac15fa",
   "metadata": {},
   "source": [
    "## splitting string by space"
   ]
  },
  {
   "cell_type": "code",
   "execution_count": 9,
   "id": "551287df",
   "metadata": {},
   "outputs": [
    {
     "data": {
      "text/plain": [
       "['ABC', 'DEF', 'GHI']"
      ]
     },
     "execution_count": 9,
     "metadata": {},
     "output_type": "execute_result"
    }
   ],
   "source": [
    "str1=\"ABC DEF GHI\"\n",
    "str1.split()"
   ]
  },
  {
   "cell_type": "code",
   "execution_count": 10,
   "id": "55ead8cd",
   "metadata": {},
   "outputs": [
    {
     "data": {
      "text/plain": [
       "['ABC', 'DEF', 'GHI']"
      ]
     },
     "execution_count": 10,
     "metadata": {},
     "output_type": "execute_result"
    }
   ],
   "source": [
    "str1=\"ABC-DEF-GHI\"\n",
    "str1.split(\"-\")"
   ]
  },
  {
   "cell_type": "markdown",
   "id": "a0e1e09a",
   "metadata": {},
   "source": [
    "## Counting characters"
   ]
  },
  {
   "cell_type": "code",
   "execution_count": 18,
   "id": "41cd71bf",
   "metadata": {},
   "outputs": [
    {
     "name": "stdout",
     "output_type": "stream",
     "text": [
      "3\n"
     ]
    }
   ],
   "source": [
    "name=\"anknnnjjbnohi\"\n",
    "vow=\"aeiouAEIOU\"\n",
    "count=0\n",
    "for i in name:\n",
    "    if i in vow:\n",
    "        count+=1\n",
    "print(count)        "
   ]
  },
  {
   "cell_type": "code",
   "execution_count": 19,
   "id": "641b2c05",
   "metadata": {},
   "outputs": [
    {
     "name": "stdout",
     "output_type": "stream",
     "text": [
      "aXbd\n"
     ]
    }
   ],
   "source": [
    "str2=\"acbd\"\n",
    "newstr=\"\"\n",
    "for i in str2:\n",
    "    if i==\"c\":\n",
    "        newstr+=\"X\"\n",
    "    else:\n",
    "        newstr+=i\n",
    "print(newstr)        "
   ]
  },
  {
   "cell_type": "markdown",
   "id": "39828dc2",
   "metadata": {},
   "source": [
    "# write a program to replace all the vowels in a following string"
   ]
  },
  {
   "cell_type": "code",
   "execution_count": 20,
   "id": "eb12ab45",
   "metadata": {},
   "outputs": [
    {
     "name": "stdout",
     "output_type": "stream",
     "text": [
      "XccgdhdXpd\n"
     ]
    }
   ],
   "source": [
    "name=\"accgdhdipd\"\n",
    "vow=\"aeiouAEIOU\"\n",
    "newstr=\"\"\n",
    "for i in name:\n",
    "    if i in vow:\n",
    "        newstr+=\"X\"\n",
    "    else:\n",
    "        newstr+=i  \n",
    "print(newstr)     "
   ]
  },
  {
   "cell_type": "markdown",
   "id": "f0a21c09",
   "metadata": {},
   "source": [
    "# Some important methods of string"
   ]
  },
  {
   "cell_type": "code",
   "execution_count": 21,
   "id": "e8303c45",
   "metadata": {},
   "outputs": [
    {
     "data": {
      "text/plain": [
       "'ABCDE'"
      ]
     },
     "execution_count": 21,
     "metadata": {},
     "output_type": "execute_result"
    }
   ],
   "source": [
    "str1=\"abcde\"\n",
    "str1.upper()"
   ]
  },
  {
   "cell_type": "code",
   "execution_count": 22,
   "id": "74266c34",
   "metadata": {},
   "outputs": [
    {
     "data": {
      "text/plain": [
       "'abcde'"
      ]
     },
     "execution_count": 22,
     "metadata": {},
     "output_type": "execute_result"
    }
   ],
   "source": [
    "str1.lower()"
   ]
  },
  {
   "cell_type": "code",
   "execution_count": 24,
   "id": "19ecffb2",
   "metadata": {},
   "outputs": [
    {
     "name": "stdout",
     "output_type": "stream",
     "text": [
      "False\n",
      "False\n",
      "False\n"
     ]
    }
   ],
   "source": [
    "str1=\"abcd1234##$$\"\n",
    "print(str1.isdigit())\n",
    "print(str1.isalnum())\n",
    "print(str1.isalpha())"
   ]
  },
  {
   "cell_type": "markdown",
   "id": "d51239fa",
   "metadata": {},
   "source": [
    "# How to check it contains special characters "
   ]
  },
  {
   "cell_type": "code",
   "execution_count": 39,
   "id": "8dec49b8",
   "metadata": {},
   "outputs": [
    {
     "name": "stdout",
     "output_type": "stream",
     "text": [
      "str1 not contains special characters\n"
     ]
    }
   ],
   "source": [
    "str1=\"abcd1234\"\n",
    "if str1.isalnum()==False:\n",
    "    print(\"str1 contains special characters\")\n",
    "else:\n",
    "    print(\"str1 not contains special characters\")"
   ]
  },
  {
   "cell_type": "markdown",
   "id": "bf70480f",
   "metadata": {},
   "source": [
    "## Introduction to list"
   ]
  },
  {
   "cell_type": "code",
   "execution_count": 28,
   "id": "35c76a1a",
   "metadata": {},
   "outputs": [
    {
     "name": "stdout",
     "output_type": "stream",
     "text": [
      "[1, 2, 3, 4, 'abc', 'def']\n"
     ]
    }
   ],
   "source": [
    "lst=[1,2,3,4,\"abc\",\"def\"]\n",
    "print(lst)"
   ]
  },
  {
   "cell_type": "code",
   "execution_count": 29,
   "id": "d324b092",
   "metadata": {},
   "outputs": [
    {
     "name": "stdout",
     "output_type": "stream",
     "text": [
      "1 2 3 4 abc def\n"
     ]
    }
   ],
   "source": [
    "print(*lst)"
   ]
  },
  {
   "cell_type": "code",
   "execution_count": 30,
   "id": "8247b32e",
   "metadata": {},
   "outputs": [
    {
     "name": "stdout",
     "output_type": "stream",
     "text": [
      "1\n",
      "2\n",
      "3\n",
      "4\n",
      "abc\n",
      "def\n"
     ]
    }
   ],
   "source": [
    "print(*lst,sep=\"\\n\")"
   ]
  },
  {
   "cell_type": "code",
   "execution_count": 34,
   "id": "56c481ae",
   "metadata": {},
   "outputs": [
    {
     "name": "stdout",
     "output_type": "stream",
     "text": [
      "3.0\n"
     ]
    }
   ],
   "source": [
    "lst3=[1,2,4,6,2,3,0,6,3]\n",
    "lst3.sort(reverse=True)\n",
    "lst3\n",
    "print(sum(lst3)/len(lst3))"
   ]
  },
  {
   "cell_type": "markdown",
   "id": "3d95ddea",
   "metadata": {},
   "source": [
    "# find the median of lst3"
   ]
  },
  {
   "cell_type": "code",
   "execution_count": 41,
   "id": "87f469c4",
   "metadata": {},
   "outputs": [
    {
     "name": "stdout",
     "output_type": "stream",
     "text": [
      "[1, 2, 3, 3, 6, 6, 7, 9]\n",
      "Median of the list is:  4.5\n"
     ]
    }
   ],
   "source": [
    "import math\n",
    "lst3=[1,6,3,7,9,6,3,2]\n",
    "lst3.sort()\n",
    "print(lst3)\n",
    "if len(lst3)%2!=0:\n",
    "    mid=len(lst3)/2\n",
    "    medn=lst3[mid]\n",
    "elif len(lst3)%2==0:\n",
    "    mid1=math.floor(len(lst3)/2)-1\n",
    "    mid2=math.ceil(len(lst3)/2)\n",
    "    medn=(lst3[mid1]+lst3[mid2])/2\n",
    "print(\"Median of the list is: \",medn)    "
   ]
  },
  {
   "cell_type": "markdown",
   "id": "3766c10f",
   "metadata": {},
   "source": [
    "# Important method in list"
   ]
  },
  {
   "cell_type": "code",
   "execution_count": 44,
   "id": "26b39ff3",
   "metadata": {},
   "outputs": [
    {
     "data": {
      "text/plain": [
       "[1, 2, 3, 4, 5, 20]"
      ]
     },
     "execution_count": 44,
     "metadata": {},
     "output_type": "execute_result"
    }
   ],
   "source": [
    "lst=[1,2,3,4,5]\n",
    "lst.append(20)\n",
    "lst"
   ]
  },
  {
   "cell_type": "code",
   "execution_count": 45,
   "id": "58069310",
   "metadata": {},
   "outputs": [
    {
     "data": {
      "text/plain": [
       "[100, 1, 2, 3, 4, 5, 20]"
      ]
     },
     "execution_count": 45,
     "metadata": {},
     "output_type": "execute_result"
    }
   ],
   "source": [
    "lst.insert(0,100) ## (index,value)\n",
    "lst"
   ]
  },
  {
   "cell_type": "code",
   "execution_count": 59,
   "id": "158be4de",
   "metadata": {},
   "outputs": [
    {
     "name": "stdout",
     "output_type": "stream",
     "text": [
      "[1, 2, 3, 4, 5, 6, 7, 8]\n"
     ]
    }
   ],
   "source": [
    "lst1=[1,2,3,4]\n",
    "lst2=[5,6,7,8]\n",
    "print(lst1+lst2)"
   ]
  },
  {
   "cell_type": "code",
   "execution_count": 60,
   "id": "c3a984ab",
   "metadata": {},
   "outputs": [
    {
     "data": {
      "text/plain": [
       "[1, 2, 3, 4, 5, 6, 7, 8]"
      ]
     },
     "execution_count": 60,
     "metadata": {},
     "output_type": "execute_result"
    }
   ],
   "source": [
    "lst1.extend(lst2)\n",
    "lst1"
   ]
  },
  {
   "cell_type": "code",
   "execution_count": 50,
   "id": "98b0736c",
   "metadata": {},
   "outputs": [
    {
     "data": {
      "text/plain": [
       "[1, 2, 4, 5, 6, 7, 8, 5, 6, 7, 8]"
      ]
     },
     "execution_count": 50,
     "metadata": {},
     "output_type": "execute_result"
    }
   ],
   "source": [
    "lst1.remove(3)\n",
    "lst1"
   ]
  },
  {
   "cell_type": "code",
   "execution_count": 51,
   "id": "f065be48",
   "metadata": {},
   "outputs": [
    {
     "data": {
      "text/plain": [
       "8"
      ]
     },
     "execution_count": 51,
     "metadata": {},
     "output_type": "execute_result"
    }
   ],
   "source": [
    "lst1.pop()"
   ]
  },
  {
   "cell_type": "code",
   "execution_count": 65,
   "id": "f004e1cb",
   "metadata": {},
   "outputs": [
    {
     "data": {
      "text/plain": [
       "7"
      ]
     },
     "execution_count": 65,
     "metadata": {},
     "output_type": "execute_result"
    }
   ],
   "source": [
    "lst1.pop(-1)"
   ]
  },
  {
   "cell_type": "code",
   "execution_count": 62,
   "id": "66a1a74f",
   "metadata": {},
   "outputs": [
    {
     "data": {
      "text/plain": [
       "1"
      ]
     },
     "execution_count": 62,
     "metadata": {},
     "output_type": "execute_result"
    }
   ],
   "source": [
    "lst1.count(3)"
   ]
  },
  {
   "cell_type": "code",
   "execution_count": 63,
   "id": "0a138c51",
   "metadata": {},
   "outputs": [
    {
     "data": {
      "text/plain": [
       "2"
      ]
     },
     "execution_count": 63,
     "metadata": {},
     "output_type": "execute_result"
    }
   ],
   "source": [
    "lst1.index(3)"
   ]
  },
  {
   "cell_type": "markdown",
   "id": "392349f1",
   "metadata": {},
   "source": [
    "# Introduction to Dictonary \n"
   ]
  },
  {
   "cell_type": "markdown",
   "id": "af753302",
   "metadata": {},
   "source": [
    "### dict={\"key\":\"value\"}"
   ]
  },
  {
   "cell_type": "code",
   "execution_count": 71,
   "id": "2f8b1932",
   "metadata": {},
   "outputs": [
    {
     "name": "stdout",
     "output_type": "stream",
     "text": [
      "{'name': ['ABC', 'DEF', 'GHI']}\n",
      "{'name': ['ABC', 'DEF', 'GHI'], 'dict2': {'num': '123'}}\n"
     ]
    }
   ],
   "source": [
    "dict1={}\n",
    "dict1[\"name\"]=[\"ABC\",\"DEF\",\"GHI\"]\n",
    "print(dict1)\n",
    "dict1[\"dict2\"]={\"num\":\"123\"}\n",
    "print(dict1)"
   ]
  },
  {
   "cell_type": "code",
   "execution_count": 75,
   "id": "342f3507",
   "metadata": {},
   "outputs": [
    {
     "name": "stdout",
     "output_type": "stream",
     "text": [
      "Before Update\n",
      "{'A': 100, 'B': 200}\n",
      "After Update\n",
      "{'A': 300, 'B': 200, 'C': 400}\n"
     ]
    }
   ],
   "source": [
    "d1={\"A\":100,\"B\":200}\n",
    "d2={\"A\":300,\"C\":400}\n",
    "print(\"Before Update\")\n",
    "print(d1)\n",
    "print(\"After Update\")\n",
    "d1.update(d2)\n",
    "print(d1)"
   ]
  },
  {
   "cell_type": "markdown",
   "id": "1d3e8671",
   "metadata": {},
   "source": [
    "# Write a program to insert the details of 4 student by the following key details:\n"
   ]
  },
  {
   "cell_type": "markdown",
   "id": "de5d2e29",
   "metadata": {},
   "source": [
    "1.Name: [\"ABC\",\"DEF\"]\n"
   ]
  },
  {
   "cell_type": "markdown",
   "id": "6307ce49",
   "metadata": {},
   "source": [
    "2.Roll:[23,45]\n"
   ]
  },
  {
   "cell_type": "markdown",
   "id": "fdf7b285",
   "metadata": {},
   "source": [
    "3.stream:[\"CSE\",\"ECE\"]\n"
   ]
  },
  {
   "cell_type": "markdown",
   "id": "71d01482",
   "metadata": {},
   "source": [
    "\n",
    "4.Marks:[45,43]"
   ]
  },
  {
   "cell_type": "code",
   "execution_count": 78,
   "id": "8def7e9e",
   "metadata": {},
   "outputs": [
    {
     "name": "stdout",
     "output_type": "stream",
     "text": [
      "\n",
      "\n",
      "Enter your name : subhram\n",
      "Enter your roll no : 23\n",
      "Enter your stream : CSE\n",
      "Enter your mark : 564\n",
      "\n",
      "\n",
      "Enter your name : raj\n",
      "Enter your roll no : 43\n",
      "Enter your stream : CSE\n",
      "Enter your mark : 76\n",
      "\n",
      "\n",
      "Enter your name : Rahul\n",
      "Enter your roll no : 65\n",
      "Enter your stream : EEE\n",
      "Enter your mark : 65\n",
      "\n",
      "\n",
      "Enter your name : Manas\n",
      "Enter your roll no : 54\n",
      "Enter your stream : ECE\n",
      "Enter your mark : 64\n",
      "{'Name': ['subhram', 'raj', 'Rahul', 'Manas'], 'Roll': ['23', '43', '65', '54'], 'Stream': ['CSE', 'CSE', 'EEE', 'ECE'], 'Marks': [564, 76, 65, 64]}\n"
     ]
    }
   ],
   "source": [
    "n=[];r=[];s=[];m=[]\n",
    "for i in range(4):\n",
    "    print(\"\\n\")\n",
    "    n.append(input(\"Enter your name : \"))\n",
    "    r.append(input(\"Enter your roll no : \"))\n",
    "    s.append(input(\"Enter your stream : \"))\n",
    "    m.append(eval(input(\"Enter your mark : \")))\n",
    "student={}    \n",
    "student[\"Name\"]=n\n",
    "student[\"Roll\"]=r\n",
    "student[\"Stream\"]=s\n",
    "student[\"Marks\"]=m\n",
    "print(student)\n"
   ]
  },
  {
   "cell_type": "code",
   "execution_count": 81,
   "id": "1377ceb9",
   "metadata": {},
   "outputs": [
    {
     "name": "stdout",
     "output_type": "stream",
     "text": [
      "Enter your name : subhram\n",
      "Enter your roll no : 23\n",
      "Enter your stream : cse\n",
      "Enter your mark : 34\n",
      "Enter your name : abhishek\n",
      "Enter your roll no : 45\n",
      "Enter your stream : cse\n",
      "Enter your mark : 33\n",
      "Enter your name : sourav\n",
      "Enter your roll no : 45\n",
      "Enter your stream : eee\n",
      "Enter your mark : 445\n",
      "Enter your name : raj\n",
      "Enter your roll no : 65\n",
      "Enter your stream : eee\n",
      "Enter your mark : 23\n"
     ]
    }
   ],
   "source": [
    "dct={\"Name\":[],\"Roll\":[],\"Stream\":[],\"Marks\":[]}\n",
    "for i in range(4):\n",
    "    dct.get(\"Name\").append(input(\"Enter your name : \"))\n",
    "    dct.get(\"Roll\").append(input(\"Enter your roll no : \"))    \n",
    "    dct.get(\"Stream\").append(input(\"Enter your stream : \"))    \n",
    "    dct.get(\"Marks\").append(eval(input(\"Enter your mark : \")))    "
   ]
  },
  {
   "cell_type": "code",
   "execution_count": 84,
   "id": "58454d02",
   "metadata": {},
   "outputs": [
    {
     "data": {
      "text/plain": [
       "{'Name': ['subhram', 'abhishek', 'sourav', 'raj'],\n",
       " 'Roll': ['23', '45', '45', '65'],\n",
       " 'Stream': ['cse', 'cse', 'eee', 'eee'],\n",
       " 'Marks': [34, 33, 445, 23]}"
      ]
     },
     "execution_count": 84,
     "metadata": {},
     "output_type": "execute_result"
    }
   ],
   "source": [
    "dct"
   ]
  },
  {
   "cell_type": "markdown",
   "id": "3106321e",
   "metadata": {},
   "source": [
    "# Introduction to array"
   ]
  },
  {
   "cell_type": "code",
   "execution_count": 85,
   "id": "fc712c4a",
   "metadata": {},
   "outputs": [],
   "source": [
    "import numpy as np"
   ]
  },
  {
   "cell_type": "code",
   "execution_count": 88,
   "id": "d19754ff",
   "metadata": {},
   "outputs": [
    {
     "name": "stdout",
     "output_type": "stream",
     "text": [
      "[1 2 3 4 5]\n"
     ]
    }
   ],
   "source": [
    "lst=[1,2,3,4,5]\n",
    "arr=np.array(lst)\n",
    "print(arr)"
   ]
  },
  {
   "cell_type": "code",
   "execution_count": 90,
   "id": "c415b1c7",
   "metadata": {},
   "outputs": [
    {
     "name": "stdout",
     "output_type": "stream",
     "text": [
      "['1' '3' '2.3' '23' 'abc']\n"
     ]
    }
   ],
   "source": [
    "lst1=[1,3,2.3,23,\"abc\"]\n",
    "print(np.array(lst1))"
   ]
  },
  {
   "cell_type": "code",
   "execution_count": 100,
   "id": "f5b28eac",
   "metadata": {},
   "outputs": [
    {
     "data": {
      "text/plain": [
       "array([[1, 2, 7],\n",
       "       [4, 5, 6],\n",
       "       [7, 8, 9]])"
      ]
     },
     "execution_count": 100,
     "metadata": {},
     "output_type": "execute_result"
    }
   ],
   "source": [
    "lst2=[[1,2,7],[4,5,6],[7,8,9]]\n",
    "arr=np.array(lst2)\n",
    "arr"
   ]
  },
  {
   "cell_type": "code",
   "execution_count": 113,
   "id": "4634000d",
   "metadata": {},
   "outputs": [
    {
     "name": "stdout",
     "output_type": "stream",
     "text": [
      "[7 5 7]\n"
     ]
    },
    {
     "data": {
      "text/plain": [
       "19"
      ]
     },
     "execution_count": 113,
     "metadata": {},
     "output_type": "execute_result"
    }
   ],
   "source": [
    "print(np.diagonal(arr[::-1]))\n",
    "sum(np.diagonal(arr[::-1]))"
   ]
  },
  {
   "cell_type": "code",
   "execution_count": 114,
   "id": "a1dc1532",
   "metadata": {},
   "outputs": [
    {
     "data": {
      "text/plain": [
       "19"
      ]
     },
     "execution_count": 114,
     "metadata": {},
     "output_type": "execute_result"
    }
   ],
   "source": [
    "sum(np.flip(arr,axis=1).diagonal())"
   ]
  },
  {
   "cell_type": "code",
   "execution_count": null,
   "id": "558d11e2",
   "metadata": {},
   "outputs": [],
   "source": []
  }
 ],
 "metadata": {
  "kernelspec": {
   "display_name": "Python 3 (ipykernel)",
   "language": "python",
   "name": "python3"
  },
  "language_info": {
   "codemirror_mode": {
    "name": "ipython",
    "version": 3
   },
   "file_extension": ".py",
   "mimetype": "text/x-python",
   "name": "python",
   "nbconvert_exporter": "python",
   "pygments_lexer": "ipython3",
   "version": "3.9.7"
  }
 },
 "nbformat": 4,
 "nbformat_minor": 5
}
