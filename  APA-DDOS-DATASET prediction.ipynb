{
 "cells": [
  {
   "cell_type": "markdown",
   "id": "edfa5719",
   "metadata": {},
   "source": [
    "# APA-DDOS-DATASET"
   ]
  },
  {
   "cell_type": "code",
   "execution_count": 1,
   "id": "0a66ae0e",
   "metadata": {},
   "outputs": [],
   "source": [
    "import warnings\n",
    "warnings.filterwarnings(\"ignore\")\n",
    "import numpy as np\n",
    "import pandas as pd\n",
    "import matplotlib.pyplot as plt\n",
    "import matplotlib\n",
    "matplotlib.rcParams['axes.labelsize']=15\n",
    "matplotlib.rcParams['xtick.labelsize']=15\n",
    "matplotlib.rcParams['ytick.labelsize']=15\n",
    "matplotlib.rcParams['text.color']='#FF1493'\n",
    "import seaborn as sns\n",
    "# import plotly.express as px\n",
    "from sklearn.model_selection import train_test_split\n",
    "from sklearn.metrics import precision_score,recall_score,f1_score,classification_report,accuracy_score"
   ]
  },
  {
   "cell_type": "code",
   "execution_count": 2,
   "id": "56750057",
   "metadata": {},
   "outputs": [],
   "source": [
    "DDOS_PATH=\"../../DATASETS/ML_Training/APA-DDoS-Dataset.csv\""
   ]
  },
  {
   "cell_type": "code",
   "execution_count": 3,
   "id": "f3c5b3da",
   "metadata": {},
   "outputs": [],
   "source": [
    "data=pd.read_csv(DDOS_PATH)"
   ]
  },
  {
   "cell_type": "code",
   "execution_count": 4,
   "id": "b3ccfc36",
   "metadata": {},
   "outputs": [
    {
     "data": {
      "text/html": [
       "<div>\n",
       "<style scoped>\n",
       "    .dataframe tbody tr th:only-of-type {\n",
       "        vertical-align: middle;\n",
       "    }\n",
       "\n",
       "    .dataframe tbody tr th {\n",
       "        vertical-align: top;\n",
       "    }\n",
       "\n",
       "    .dataframe thead th {\n",
       "        text-align: right;\n",
       "    }\n",
       "</style>\n",
       "<table border=\"1\" class=\"dataframe\">\n",
       "  <thead>\n",
       "    <tr style=\"text-align: right;\">\n",
       "      <th></th>\n",
       "      <th>ip.src</th>\n",
       "      <th>ip.dst</th>\n",
       "      <th>tcp.srcport</th>\n",
       "      <th>tcp.dstport</th>\n",
       "      <th>ip.proto</th>\n",
       "      <th>frame.len</th>\n",
       "      <th>tcp.flags.syn</th>\n",
       "      <th>tcp.flags.reset</th>\n",
       "      <th>tcp.flags.push</th>\n",
       "      <th>tcp.flags.ack</th>\n",
       "      <th>...</th>\n",
       "      <th>tcp.seq</th>\n",
       "      <th>tcp.ack</th>\n",
       "      <th>frame.time</th>\n",
       "      <th>Packets</th>\n",
       "      <th>Bytes</th>\n",
       "      <th>Tx Packets</th>\n",
       "      <th>Tx Bytes</th>\n",
       "      <th>Rx Packets</th>\n",
       "      <th>Rx Bytes</th>\n",
       "      <th>Label</th>\n",
       "    </tr>\n",
       "  </thead>\n",
       "  <tbody>\n",
       "    <tr>\n",
       "      <th>0</th>\n",
       "      <td>192.168.1.1</td>\n",
       "      <td>192.168.23.2</td>\n",
       "      <td>2412</td>\n",
       "      <td>8000</td>\n",
       "      <td>6</td>\n",
       "      <td>54</td>\n",
       "      <td>0</td>\n",
       "      <td>0</td>\n",
       "      <td>1</td>\n",
       "      <td>1</td>\n",
       "      <td>...</td>\n",
       "      <td>1</td>\n",
       "      <td>1</td>\n",
       "      <td>16-Jun 2020 20:18:15.071112000 Mountain Dayli...</td>\n",
       "      <td>8</td>\n",
       "      <td>432</td>\n",
       "      <td>4</td>\n",
       "      <td>216</td>\n",
       "      <td>4</td>\n",
       "      <td>216</td>\n",
       "      <td>DDoS-PSH-ACK</td>\n",
       "    </tr>\n",
       "    <tr>\n",
       "      <th>1</th>\n",
       "      <td>192.168.1.1</td>\n",
       "      <td>192.168.23.2</td>\n",
       "      <td>2413</td>\n",
       "      <td>8000</td>\n",
       "      <td>6</td>\n",
       "      <td>54</td>\n",
       "      <td>0</td>\n",
       "      <td>0</td>\n",
       "      <td>1</td>\n",
       "      <td>1</td>\n",
       "      <td>...</td>\n",
       "      <td>1</td>\n",
       "      <td>1</td>\n",
       "      <td>16-Jun 2020 20:18:15.071138000 Mountain Dayli...</td>\n",
       "      <td>10</td>\n",
       "      <td>540</td>\n",
       "      <td>5</td>\n",
       "      <td>270</td>\n",
       "      <td>5</td>\n",
       "      <td>270</td>\n",
       "      <td>DDoS-PSH-ACK</td>\n",
       "    </tr>\n",
       "    <tr>\n",
       "      <th>2</th>\n",
       "      <td>192.168.1.1</td>\n",
       "      <td>192.168.23.2</td>\n",
       "      <td>2414</td>\n",
       "      <td>8000</td>\n",
       "      <td>6</td>\n",
       "      <td>54</td>\n",
       "      <td>0</td>\n",
       "      <td>0</td>\n",
       "      <td>1</td>\n",
       "      <td>1</td>\n",
       "      <td>...</td>\n",
       "      <td>1</td>\n",
       "      <td>1</td>\n",
       "      <td>16-Jun 2020 20:18:15.071146000 Mountain Dayli...</td>\n",
       "      <td>12</td>\n",
       "      <td>648</td>\n",
       "      <td>6</td>\n",
       "      <td>324</td>\n",
       "      <td>6</td>\n",
       "      <td>324</td>\n",
       "      <td>DDoS-PSH-ACK</td>\n",
       "    </tr>\n",
       "    <tr>\n",
       "      <th>3</th>\n",
       "      <td>192.168.1.1</td>\n",
       "      <td>192.168.23.2</td>\n",
       "      <td>2415</td>\n",
       "      <td>8000</td>\n",
       "      <td>6</td>\n",
       "      <td>54</td>\n",
       "      <td>0</td>\n",
       "      <td>0</td>\n",
       "      <td>1</td>\n",
       "      <td>1</td>\n",
       "      <td>...</td>\n",
       "      <td>1</td>\n",
       "      <td>1</td>\n",
       "      <td>16-Jun 2020 20:18:15.071152000 Mountain Dayli...</td>\n",
       "      <td>10</td>\n",
       "      <td>540</td>\n",
       "      <td>5</td>\n",
       "      <td>270</td>\n",
       "      <td>5</td>\n",
       "      <td>270</td>\n",
       "      <td>DDoS-PSH-ACK</td>\n",
       "    </tr>\n",
       "    <tr>\n",
       "      <th>4</th>\n",
       "      <td>192.168.1.1</td>\n",
       "      <td>192.168.23.2</td>\n",
       "      <td>2416</td>\n",
       "      <td>8000</td>\n",
       "      <td>6</td>\n",
       "      <td>54</td>\n",
       "      <td>0</td>\n",
       "      <td>0</td>\n",
       "      <td>1</td>\n",
       "      <td>1</td>\n",
       "      <td>...</td>\n",
       "      <td>1</td>\n",
       "      <td>1</td>\n",
       "      <td>16-Jun 2020 20:18:15.071159000 Mountain Dayli...</td>\n",
       "      <td>6</td>\n",
       "      <td>324</td>\n",
       "      <td>3</td>\n",
       "      <td>162</td>\n",
       "      <td>3</td>\n",
       "      <td>162</td>\n",
       "      <td>DDoS-PSH-ACK</td>\n",
       "    </tr>\n",
       "    <tr>\n",
       "      <th>...</th>\n",
       "      <td>...</td>\n",
       "      <td>...</td>\n",
       "      <td>...</td>\n",
       "      <td>...</td>\n",
       "      <td>...</td>\n",
       "      <td>...</td>\n",
       "      <td>...</td>\n",
       "      <td>...</td>\n",
       "      <td>...</td>\n",
       "      <td>...</td>\n",
       "      <td>...</td>\n",
       "      <td>...</td>\n",
       "      <td>...</td>\n",
       "      <td>...</td>\n",
       "      <td>...</td>\n",
       "      <td>...</td>\n",
       "      <td>...</td>\n",
       "      <td>...</td>\n",
       "      <td>...</td>\n",
       "      <td>...</td>\n",
       "      <td>...</td>\n",
       "    </tr>\n",
       "    <tr>\n",
       "      <th>151195</th>\n",
       "      <td>192.168.19.1</td>\n",
       "      <td>192.168.23.2</td>\n",
       "      <td>37360</td>\n",
       "      <td>8000</td>\n",
       "      <td>6</td>\n",
       "      <td>66</td>\n",
       "      <td>0</td>\n",
       "      <td>0</td>\n",
       "      <td>0</td>\n",
       "      <td>1</td>\n",
       "      <td>...</td>\n",
       "      <td>1</td>\n",
       "      <td>1</td>\n",
       "      <td>16-Jun 2020 22:10:46.923006000 Mountain Dayli...</td>\n",
       "      <td>10</td>\n",
       "      <td>1146</td>\n",
       "      <td>6</td>\n",
       "      <td>560</td>\n",
       "      <td>4</td>\n",
       "      <td>586</td>\n",
       "      <td>Benign</td>\n",
       "    </tr>\n",
       "    <tr>\n",
       "      <th>151196</th>\n",
       "      <td>192.168.19.1</td>\n",
       "      <td>192.168.23.2</td>\n",
       "      <td>37362</td>\n",
       "      <td>8000</td>\n",
       "      <td>6</td>\n",
       "      <td>66</td>\n",
       "      <td>0</td>\n",
       "      <td>0</td>\n",
       "      <td>0</td>\n",
       "      <td>1</td>\n",
       "      <td>...</td>\n",
       "      <td>1</td>\n",
       "      <td>1</td>\n",
       "      <td>16-Jun 2020 22:10:46.935672000 Mountain Dayli...</td>\n",
       "      <td>10</td>\n",
       "      <td>1151</td>\n",
       "      <td>6</td>\n",
       "      <td>560</td>\n",
       "      <td>4</td>\n",
       "      <td>591</td>\n",
       "      <td>Benign</td>\n",
       "    </tr>\n",
       "    <tr>\n",
       "      <th>151197</th>\n",
       "      <td>192.168.19.1</td>\n",
       "      <td>192.168.23.2</td>\n",
       "      <td>37364</td>\n",
       "      <td>8000</td>\n",
       "      <td>6</td>\n",
       "      <td>66</td>\n",
       "      <td>0</td>\n",
       "      <td>0</td>\n",
       "      <td>0</td>\n",
       "      <td>1</td>\n",
       "      <td>...</td>\n",
       "      <td>1</td>\n",
       "      <td>1</td>\n",
       "      <td>16-Jun 2020 22:10:46.957469000 Mountain Dayli...</td>\n",
       "      <td>10</td>\n",
       "      <td>1144</td>\n",
       "      <td>6</td>\n",
       "      <td>560</td>\n",
       "      <td>4</td>\n",
       "      <td>584</td>\n",
       "      <td>Benign</td>\n",
       "    </tr>\n",
       "    <tr>\n",
       "      <th>151198</th>\n",
       "      <td>192.168.19.1</td>\n",
       "      <td>192.168.23.2</td>\n",
       "      <td>37366</td>\n",
       "      <td>8000</td>\n",
       "      <td>6</td>\n",
       "      <td>66</td>\n",
       "      <td>0</td>\n",
       "      <td>0</td>\n",
       "      <td>0</td>\n",
       "      <td>1</td>\n",
       "      <td>...</td>\n",
       "      <td>1</td>\n",
       "      <td>1</td>\n",
       "      <td>16-Jun 2020 22:10:46.970971000 Mountain Dayli...</td>\n",
       "      <td>10</td>\n",
       "      <td>1175</td>\n",
       "      <td>6</td>\n",
       "      <td>560</td>\n",
       "      <td>4</td>\n",
       "      <td>615</td>\n",
       "      <td>Benign</td>\n",
       "    </tr>\n",
       "    <tr>\n",
       "      <th>151199</th>\n",
       "      <td>192.168.19.1</td>\n",
       "      <td>192.168.23.2</td>\n",
       "      <td>37368</td>\n",
       "      <td>8000</td>\n",
       "      <td>6</td>\n",
       "      <td>66</td>\n",
       "      <td>0</td>\n",
       "      <td>0</td>\n",
       "      <td>0</td>\n",
       "      <td>1</td>\n",
       "      <td>...</td>\n",
       "      <td>1</td>\n",
       "      <td>1</td>\n",
       "      <td>16-Jun 2020 22:10:46.984798000 Mountain Dayli...</td>\n",
       "      <td>10</td>\n",
       "      <td>1146</td>\n",
       "      <td>6</td>\n",
       "      <td>560</td>\n",
       "      <td>4</td>\n",
       "      <td>586</td>\n",
       "      <td>Benign</td>\n",
       "    </tr>\n",
       "  </tbody>\n",
       "</table>\n",
       "<p>151200 rows × 23 columns</p>\n",
       "</div>"
      ],
      "text/plain": [
       "              ip.src        ip.dst  tcp.srcport  tcp.dstport  ip.proto  \\\n",
       "0        192.168.1.1  192.168.23.2         2412         8000         6   \n",
       "1        192.168.1.1  192.168.23.2         2413         8000         6   \n",
       "2        192.168.1.1  192.168.23.2         2414         8000         6   \n",
       "3        192.168.1.1  192.168.23.2         2415         8000         6   \n",
       "4        192.168.1.1  192.168.23.2         2416         8000         6   \n",
       "...              ...           ...          ...          ...       ...   \n",
       "151195  192.168.19.1  192.168.23.2        37360         8000         6   \n",
       "151196  192.168.19.1  192.168.23.2        37362         8000         6   \n",
       "151197  192.168.19.1  192.168.23.2        37364         8000         6   \n",
       "151198  192.168.19.1  192.168.23.2        37366         8000         6   \n",
       "151199  192.168.19.1  192.168.23.2        37368         8000         6   \n",
       "\n",
       "        frame.len  tcp.flags.syn  tcp.flags.reset  tcp.flags.push  \\\n",
       "0              54              0                0               1   \n",
       "1              54              0                0               1   \n",
       "2              54              0                0               1   \n",
       "3              54              0                0               1   \n",
       "4              54              0                0               1   \n",
       "...           ...            ...              ...             ...   \n",
       "151195         66              0                0               0   \n",
       "151196         66              0                0               0   \n",
       "151197         66              0                0               0   \n",
       "151198         66              0                0               0   \n",
       "151199         66              0                0               0   \n",
       "\n",
       "        tcp.flags.ack  ...  tcp.seq  tcp.ack  \\\n",
       "0                   1  ...        1        1   \n",
       "1                   1  ...        1        1   \n",
       "2                   1  ...        1        1   \n",
       "3                   1  ...        1        1   \n",
       "4                   1  ...        1        1   \n",
       "...               ...  ...      ...      ...   \n",
       "151195              1  ...        1        1   \n",
       "151196              1  ...        1        1   \n",
       "151197              1  ...        1        1   \n",
       "151198              1  ...        1        1   \n",
       "151199              1  ...        1        1   \n",
       "\n",
       "                                               frame.time  Packets  Bytes  \\\n",
       "0        16-Jun 2020 20:18:15.071112000 Mountain Dayli...        8    432   \n",
       "1        16-Jun 2020 20:18:15.071138000 Mountain Dayli...       10    540   \n",
       "2        16-Jun 2020 20:18:15.071146000 Mountain Dayli...       12    648   \n",
       "3        16-Jun 2020 20:18:15.071152000 Mountain Dayli...       10    540   \n",
       "4        16-Jun 2020 20:18:15.071159000 Mountain Dayli...        6    324   \n",
       "...                                                   ...      ...    ...   \n",
       "151195   16-Jun 2020 22:10:46.923006000 Mountain Dayli...       10   1146   \n",
       "151196   16-Jun 2020 22:10:46.935672000 Mountain Dayli...       10   1151   \n",
       "151197   16-Jun 2020 22:10:46.957469000 Mountain Dayli...       10   1144   \n",
       "151198   16-Jun 2020 22:10:46.970971000 Mountain Dayli...       10   1175   \n",
       "151199   16-Jun 2020 22:10:46.984798000 Mountain Dayli...       10   1146   \n",
       "\n",
       "       Tx Packets  Tx Bytes  Rx Packets  Rx Bytes         Label  \n",
       "0               4       216           4       216  DDoS-PSH-ACK  \n",
       "1               5       270           5       270  DDoS-PSH-ACK  \n",
       "2               6       324           6       324  DDoS-PSH-ACK  \n",
       "3               5       270           5       270  DDoS-PSH-ACK  \n",
       "4               3       162           3       162  DDoS-PSH-ACK  \n",
       "...           ...       ...         ...       ...           ...  \n",
       "151195          6       560           4       586        Benign  \n",
       "151196          6       560           4       591        Benign  \n",
       "151197          6       560           4       584        Benign  \n",
       "151198          6       560           4       615        Benign  \n",
       "151199          6       560           4       586        Benign  \n",
       "\n",
       "[151200 rows x 23 columns]"
      ]
     },
     "execution_count": 4,
     "metadata": {},
     "output_type": "execute_result"
    }
   ],
   "source": [
    "data"
   ]
  },
  {
   "cell_type": "code",
   "execution_count": 5,
   "id": "065f31fd",
   "metadata": {},
   "outputs": [
    {
     "data": {
      "text/plain": [
       "Index(['ip.src', 'ip.dst', 'tcp.srcport', 'tcp.dstport', 'ip.proto',\n",
       "       'frame.len', 'tcp.flags.syn', 'tcp.flags.reset', 'tcp.flags.push',\n",
       "       'tcp.flags.ack', 'ip.flags.mf', 'ip.flags.df', 'ip.flags.rb', 'tcp.seq',\n",
       "       'tcp.ack', 'frame.time', 'Packets', 'Bytes', 'Tx Packets', 'Tx Bytes',\n",
       "       'Rx Packets', 'Rx Bytes', 'Label'],\n",
       "      dtype='object')"
      ]
     },
     "execution_count": 5,
     "metadata": {},
     "output_type": "execute_result"
    }
   ],
   "source": [
    "data.columns"
   ]
  },
  {
   "cell_type": "code",
   "execution_count": 6,
   "id": "5dc172c7",
   "metadata": {},
   "outputs": [
    {
     "data": {
      "text/plain": [
       "(151200, 23)"
      ]
     },
     "execution_count": 6,
     "metadata": {},
     "output_type": "execute_result"
    }
   ],
   "source": [
    "data.shape"
   ]
  },
  {
   "cell_type": "code",
   "execution_count": 7,
   "id": "3eb1956c",
   "metadata": {},
   "outputs": [
    {
     "name": "stdout",
     "output_type": "stream",
     "text": [
      "<class 'pandas.core.frame.DataFrame'>\n",
      "RangeIndex: 151200 entries, 0 to 151199\n",
      "Data columns (total 23 columns):\n",
      " #   Column           Non-Null Count   Dtype \n",
      "---  ------           --------------   ----- \n",
      " 0   ip.src           151200 non-null  object\n",
      " 1   ip.dst           151200 non-null  object\n",
      " 2   tcp.srcport      151200 non-null  int64 \n",
      " 3   tcp.dstport      151200 non-null  int64 \n",
      " 4   ip.proto         151200 non-null  int64 \n",
      " 5   frame.len        151200 non-null  int64 \n",
      " 6   tcp.flags.syn    151200 non-null  int64 \n",
      " 7   tcp.flags.reset  151200 non-null  int64 \n",
      " 8   tcp.flags.push   151200 non-null  int64 \n",
      " 9   tcp.flags.ack    151200 non-null  int64 \n",
      " 10  ip.flags.mf      151200 non-null  int64 \n",
      " 11  ip.flags.df      151200 non-null  int64 \n",
      " 12  ip.flags.rb      151200 non-null  int64 \n",
      " 13  tcp.seq          151200 non-null  int64 \n",
      " 14  tcp.ack          151200 non-null  int64 \n",
      " 15  frame.time       151200 non-null  object\n",
      " 16  Packets          151200 non-null  int64 \n",
      " 17  Bytes            151200 non-null  int64 \n",
      " 18  Tx Packets       151200 non-null  int64 \n",
      " 19  Tx Bytes         151200 non-null  int64 \n",
      " 20  Rx Packets       151200 non-null  int64 \n",
      " 21  Rx Bytes         151200 non-null  int64 \n",
      " 22  Label            151200 non-null  object\n",
      "dtypes: int64(19), object(4)\n",
      "memory usage: 26.5+ MB\n"
     ]
    }
   ],
   "source": [
    "data.info()"
   ]
  },
  {
   "cell_type": "code",
   "execution_count": 8,
   "id": "37dee5f1",
   "metadata": {},
   "outputs": [],
   "source": [
    "# data.corr()"
   ]
  },
  {
   "cell_type": "code",
   "execution_count": 9,
   "id": "95124e58",
   "metadata": {},
   "outputs": [
    {
     "data": {
      "text/plain": [
       "Benign          75600\n",
       "DDoS-PSH-ACK    37800\n",
       "DDoS-ACK        37800\n",
       "Name: Label, dtype: int64"
      ]
     },
     "execution_count": 9,
     "metadata": {},
     "output_type": "execute_result"
    }
   ],
   "source": [
    "data['Label'].value_counts()"
   ]
  },
  {
   "cell_type": "code",
   "execution_count": 10,
   "id": "8c5a5b14",
   "metadata": {},
   "outputs": [
    {
     "ename": "TypeError",
     "evalue": "bar() missing 1 required positional argument: 'height'",
     "output_type": "error",
     "traceback": [
      "\u001b[1;31m---------------------------------------------------------------------------\u001b[0m",
      "\u001b[1;31mTypeError\u001b[0m                                 Traceback (most recent call last)",
      "\u001b[1;32m~\\AppData\\Local\\Temp/ipykernel_26868/4164254027.py\u001b[0m in \u001b[0;36m<module>\u001b[1;34m\u001b[0m\n\u001b[1;32m----> 1\u001b[1;33m \u001b[0mplt\u001b[0m\u001b[1;33m.\u001b[0m\u001b[0mbar\u001b[0m\u001b[1;33m(\u001b[0m\u001b[0mdata\u001b[0m\u001b[1;33m[\u001b[0m\u001b[1;34m'Label'\u001b[0m\u001b[1;33m]\u001b[0m\u001b[1;33m)\u001b[0m\u001b[1;33m\u001b[0m\u001b[1;33m\u001b[0m\u001b[0m\n\u001b[0m",
      "\u001b[1;31mTypeError\u001b[0m: bar() missing 1 required positional argument: 'height'"
     ]
    }
   ],
   "source": [
    "plt.bar(data['Label'])"
   ]
  },
  {
   "cell_type": "code",
   "execution_count": null,
   "id": "314e95d9",
   "metadata": {},
   "outputs": [],
   "source": [
    "data['frame.time'].value_counts()"
   ]
  },
  {
   "cell_type": "code",
   "execution_count": null,
   "id": "c7f227e2",
   "metadata": {},
   "outputs": [],
   "source": [
    "# data['Label'] = data['Label'].replace(['Benign','DDoS-PSH-ACK','DDoS-ACK'],[1,2,3])"
   ]
  },
  {
   "cell_type": "markdown",
   "id": "3b6c0684",
   "metadata": {},
   "source": [
    "### Splitting data"
   ]
  },
  {
   "cell_type": "code",
   "execution_count": null,
   "id": "fc26574f",
   "metadata": {},
   "outputs": [],
   "source": [
    "x=data.drop(['ip.src', 'ip.dst','frame.time','Label'],axis=1)\n",
    "y=data['Label']"
   ]
  },
  {
   "cell_type": "code",
   "execution_count": null,
   "id": "85ee30e6",
   "metadata": {},
   "outputs": [],
   "source": [
    "X_train,X_test,Y_train,Y_test = train_test_split(x,y,test_size = 0.2,random_state = 2)\n",
    "print(X_train.shape,Y_train.shape,X_test.shape,Y_test.shape)"
   ]
  },
  {
   "cell_type": "code",
   "execution_count": null,
   "id": "d893aa5b",
   "metadata": {},
   "outputs": [],
   "source": [
    "from sklearn.tree import DecisionTreeClassifier\n",
    "from sklearn.linear_model import LogisticRegression"
   ]
  },
  {
   "cell_type": "markdown",
   "id": "d973c329",
   "metadata": {},
   "source": [
    "## DecisionTreeClassifier"
   ]
  },
  {
   "cell_type": "code",
   "execution_count": null,
   "id": "fe16071f",
   "metadata": {},
   "outputs": [],
   "source": [
    "dtclf = DecisionTreeClassifier()\n",
    "dtclf.fit(X_train,Y_train)\n",
    "predicted=dtclf.predict(X_test)\n",
    "print(\"Accuracy : \",accuracy_score(predicted,Y_test)*100,\"%\")"
   ]
  },
  {
   "cell_type": "markdown",
   "id": "032ce15f",
   "metadata": {},
   "source": [
    "## LogisticRegression"
   ]
  },
  {
   "cell_type": "code",
   "execution_count": null,
   "id": "d9572918",
   "metadata": {},
   "outputs": [],
   "source": [
    "logmodel = LogisticRegression()\n",
    "logmodel.fit(X_train,Y_train)\n",
    "predicted=logmodel.predict(X_test)\n",
    "print(\"Accuracy : \",accuracy_score(predicted,Y_test)*100,\"%\")"
   ]
  },
  {
   "cell_type": "markdown",
   "id": "06945314",
   "metadata": {},
   "source": [
    "## Normalization"
   ]
  },
  {
   "cell_type": "code",
   "execution_count": null,
   "id": "4cee68dd",
   "metadata": {},
   "outputs": [],
   "source": [
    "from sklearn.preprocessing import StandardScaler\n",
    "scaler = StandardScaler()\n",
    "scaler.fit(x)\n",
    "standardizedata=scaler.transform(x)\n",
    "standardizedata=pd.DataFrame(standardizedata)\n",
    "standardizedata"
   ]
  },
  {
   "cell_type": "code",
   "execution_count": null,
   "id": "1b0a1220",
   "metadata": {},
   "outputs": [],
   "source": [
    "X_train,X_test,Y_train,Y_test = train_test_split(standardizedata,y,test_size = 0.2,random_state = 2)\n",
    "print(X_train.shape,Y_train.shape,X_test.shape,Y_test.shape)"
   ]
  },
  {
   "cell_type": "code",
   "execution_count": null,
   "id": "390558d9",
   "metadata": {},
   "outputs": [],
   "source": [
    "dtclf = DecisionTreeClassifier()\n",
    "dtclf.fit(X_train,Y_train)\n",
    "predicted=dtclf.predict(X_test)\n",
    "print(\"Accuracy : \",accuracy_score(predicted,Y_test)*100,\"%\")"
   ]
  },
  {
   "cell_type": "markdown",
   "id": "7792e984",
   "metadata": {},
   "source": [
    "## Model Validation\n",
    "`Take 20 random data from X_test\n",
    "keep the test labels in another list\n",
    "Predict those 20 data and check the classification outcome.\n",
    "Show the successfull and unsuccessful detection in a Pie Chart`"
   ]
  },
  {
   "cell_type": "code",
   "execution_count": null,
   "id": "b80ce76c",
   "metadata": {},
   "outputs": [],
   "source": [
    "import random \n",
    "allpreds=[]\n",
    "status = []\n",
    "for i in range(1512):\n",
    "  idx = random.randint(0,len(X_test))\n",
    "  presdata = X_test.iloc[idx]\n",
    "  preslbl = Y_test.iloc[idx]\n",
    "  prediction = dtclf.predict([presdata])\n",
    "  allpreds.append(prediction[0])\n",
    "  if prediction[0]==preslbl:\n",
    "    status.append(\"Successful\")\n",
    "  else:\n",
    "    status.append(\"Unsuccessful\")\n",
    "valdf = pd.DataFrame({\n",
    "    \"Status\":status,\n",
    "})\n",
    "valdf"
   ]
  },
  {
   "cell_type": "code",
   "execution_count": null,
   "id": "e1c31e45",
   "metadata": {},
   "outputs": [],
   "source": [
    "valdf.value_counts()"
   ]
  },
  {
   "cell_type": "code",
   "execution_count": null,
   "id": "8f2d56c7",
   "metadata": {},
   "outputs": [],
   "source": [
    "a=valdf.value_counts()\n",
    "indx=a.index.tolist()\n",
    "aval=a.tolist()\n",
    "print(indx,aval)"
   ]
  },
  {
   "cell_type": "code",
   "execution_count": null,
   "id": "f3b603eb",
   "metadata": {},
   "outputs": [],
   "source": [
    "df=pd.DataFrame({'Successful':indx,'Unsuccessful':aval})\n",
    "fig = px.pie(df,names='Successful',values='Unsuccessful',color='Unsuccessful')\n",
    "fig.show()"
   ]
  },
  {
   "cell_type": "code",
   "execution_count": null,
   "id": "da248392",
   "metadata": {},
   "outputs": [],
   "source": [
    "dtclf = DecisionTreeClassifier()\n",
    "dtclf.fit(X_train,Y_train)\n",
    "dtpred = dtclf.predict(X_test)\n",
    "\n",
    "print(\"Precision:\",round(precision_score(Y_test,dtpred,average=\"weighted\"),4)*100)\n",
    "print(\"Recall:\",round(recall_score(Y_test,dtpred,average=\"weighted\"),4)*100)\n",
    "print(\"F1-score:\",round(f1_score(Y_test,dtpred,average=\"weighted\"),4)*100)\n",
    "print(\"Accuracy:\",round(accuracy_score(Y_test,dtpred),4)*100)\n",
    "cnfm = pd.crosstab(Y_test,dtpred,rownames=['True'],colnames=['Predicted'],margins=True)\n",
    "plt.figure(figsize=(10,5))\n",
    "plt.title(\"Confusion Matrix\",fontsize=18,color='#FF6493')\n",
    "sns.heatmap(cnfm.iloc[:2,:2],fmt=\"d\",annot=True,cmap=\"gist_heat\")\n",
    "plt.show()"
   ]
  },
  {
   "cell_type": "code",
   "execution_count": null,
   "id": "4eea1527",
   "metadata": {},
   "outputs": [],
   "source": []
  }
 ],
 "metadata": {
  "kernelspec": {
   "display_name": "Python 3 (ipykernel)",
   "language": "python",
   "name": "python3"
  },
  "language_info": {
   "codemirror_mode": {
    "name": "ipython",
    "version": 3
   },
   "file_extension": ".py",
   "mimetype": "text/x-python",
   "name": "python",
   "nbconvert_exporter": "python",
   "pygments_lexer": "ipython3",
   "version": "3.9.7"
  }
 },
 "nbformat": 4,
 "nbformat_minor": 5
}
