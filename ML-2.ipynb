{
 "cells": [
  {
   "cell_type": "markdown",
   "id": "22accb19",
   "metadata": {},
   "source": [
    "## Importing numpy"
   ]
  },
  {
   "cell_type": "code",
   "execution_count": 2,
   "id": "506f3ef7",
   "metadata": {},
   "outputs": [],
   "source": [
    "import numpy as np"
   ]
  },
  {
   "cell_type": "code",
   "execution_count": 3,
   "id": "1ab765b9",
   "metadata": {},
   "outputs": [],
   "source": [
    "l1=[1,2,3,4,5,6,7,8,9]\n",
    "l2=[[1,2,3],[4,5,6],[7,8,9]]"
   ]
  },
  {
   "cell_type": "markdown",
   "id": "3b5976c0",
   "metadata": {},
   "source": [
    "## converting list to an numpy array"
   ]
  },
  {
   "cell_type": "code",
   "execution_count": 4,
   "id": "424b018e",
   "metadata": {},
   "outputs": [
    {
     "name": "stdout",
     "output_type": "stream",
     "text": [
      "[1 2 3 4 5 6 7 8 9]\n",
      "[[1 2 3]\n",
      " [4 5 6]\n",
      " [7 8 9]]\n"
     ]
    }
   ],
   "source": [
    "arr1=np.array(l1)\n",
    "arr2=np.array(l2)\n",
    "print(arr1)\n",
    "print(arr2)"
   ]
  },
  {
   "cell_type": "markdown",
   "id": "65ceb605",
   "metadata": {},
   "source": [
    "## Data type of array"
   ]
  },
  {
   "cell_type": "code",
   "execution_count": 6,
   "id": "0900dc00",
   "metadata": {},
   "outputs": [
    {
     "name": "stdout",
     "output_type": "stream",
     "text": [
      "Data type of arr1 :  int32\n",
      "Data type of arr2 :  int32\n"
     ]
    }
   ],
   "source": [
    "print(\"Data type of arr1 : \",arr1.dtype)\n",
    "print(\"Data type of arr2 : \",arr2.dtype)"
   ]
  },
  {
   "cell_type": "markdown",
   "id": "ddd51fbd",
   "metadata": {},
   "source": [
    "## Type of array"
   ]
  },
  {
   "cell_type": "code",
   "execution_count": 7,
   "id": "ef10e051",
   "metadata": {},
   "outputs": [
    {
     "name": "stdout",
     "output_type": "stream",
     "text": [
      "type of arr1 :  <class 'numpy.ndarray'>\n",
      "type of arr2 :  <class 'numpy.ndarray'>\n"
     ]
    }
   ],
   "source": [
    "print(\"type of arr1 : \",type(arr1))\n",
    "print(\"type of arr2 : \",type(arr2))"
   ]
  },
  {
   "cell_type": "markdown",
   "id": "888bbb9e",
   "metadata": {},
   "source": [
    "## size of array"
   ]
  },
  {
   "cell_type": "code",
   "execution_count": 9,
   "id": "c6bd36d0",
   "metadata": {},
   "outputs": [
    {
     "name": "stdout",
     "output_type": "stream",
     "text": [
      "size  of arr1 :  9\n",
      "size  of arr2 :  9\n"
     ]
    }
   ],
   "source": [
    "print(\"size  of arr1 : \",arr1.size)\n",
    "print(\"size  of arr2 : \",arr2.size)"
   ]
  },
  {
   "cell_type": "markdown",
   "id": "c0b12132",
   "metadata": {},
   "source": [
    "## length of array"
   ]
  },
  {
   "cell_type": "code",
   "execution_count": 10,
   "id": "ceb3767a",
   "metadata": {},
   "outputs": [
    {
     "name": "stdout",
     "output_type": "stream",
     "text": [
      "length of arr1 :  9\n",
      "length of arr2 :  3\n"
     ]
    }
   ],
   "source": [
    "print(\"length of arr1 : \",len(arr1))\n",
    "print(\"length of arr2 : \",len(arr2))"
   ]
  },
  {
   "cell_type": "markdown",
   "id": "fe306d31",
   "metadata": {},
   "source": [
    "## Memory space allocation of a array"
   ]
  },
  {
   "cell_type": "code",
   "execution_count": 16,
   "id": "39ed5a6e",
   "metadata": {},
   "outputs": [
    {
     "name": "stdout",
     "output_type": "stream",
     "text": [
      "Item size of array arr1: 4\n",
      "Memory space allocation of arr1: 36\n",
      "Memory space allocation of arr1: 36\n"
     ]
    }
   ],
   "source": [
    "print(\"Item size of array arr1:\",arr1.itemsize)\n",
    "print(\"Memory space allocation of arr1:\",arr1.size*arr1.itemsize)\n",
    "print(\"Memory space allocation of arr1:\",arr1.nbytes)"
   ]
  },
  {
   "cell_type": "markdown",
   "id": "db1a30d5",
   "metadata": {},
   "source": [
    "## Dimension of an array"
   ]
  },
  {
   "cell_type": "code",
   "execution_count": 18,
   "id": "cb23033d",
   "metadata": {},
   "outputs": [
    {
     "name": "stdout",
     "output_type": "stream",
     "text": [
      "Dimension of an array arr1 1\n",
      "Dimension of an array arr2 2\n"
     ]
    }
   ],
   "source": [
    "print(\"Dimension of an array arr1\",arr1.ndim)\n",
    "print(\"Dimension of an array arr2\",arr2.ndim)"
   ]
  },
  {
   "cell_type": "markdown",
   "id": "fcf410ca",
   "metadata": {},
   "source": [
    "## cumulative product"
   ]
  },
  {
   "cell_type": "code",
   "execution_count": 19,
   "id": "15bcc247",
   "metadata": {},
   "outputs": [
    {
     "name": "stdout",
     "output_type": "stream",
     "text": [
      "cumulative product of arr1 [     1      2      6     24    120    720   5040  40320 362880]\n"
     ]
    }
   ],
   "source": [
    "print(\"cumulative product of arr1\",np.cumprod(arr1))"
   ]
  },
  {
   "cell_type": "markdown",
   "id": "daad4ff6",
   "metadata": {},
   "source": [
    "l1=[1,2,3,4,5,6,7,8,9]\n"
   ]
  },
  {
   "cell_type": "markdown",
   "id": "4de05dcd",
   "metadata": {},
   "source": [
    "## cumulative sum"
   ]
  },
  {
   "cell_type": "code",
   "execution_count": 20,
   "id": "c7bbe58d",
   "metadata": {},
   "outputs": [
    {
     "name": "stdout",
     "output_type": "stream",
     "text": [
      "cumulative sum of arr1 [ 1  3  6 10 15 21 28 36 45]\n"
     ]
    }
   ],
   "source": [
    "print(\"cumulative sum of arr1\",np.cumsum(arr1))"
   ]
  },
  {
   "cell_type": "markdown",
   "id": "65cc8359",
   "metadata": {},
   "source": [
    "## Fetching an item from array "
   ]
  },
  {
   "cell_type": "code",
   "execution_count": 25,
   "id": "2a6881be",
   "metadata": {},
   "outputs": [
    {
     "name": "stdout",
     "output_type": "stream",
     "text": [
      "4th item of arr1 :  5\n",
      "Element of arr2 at row 1 column 2 :  6\n"
     ]
    }
   ],
   "source": [
    "print(\"4th item of arr1 : \",arr1.item(4))\n",
    "print(\"Element of arr2 at row 1 column 2 : \",arr2.item(1,2))"
   ]
  },
  {
   "cell_type": "markdown",
   "id": "a8dbb9cc",
   "metadata": {},
   "source": [
    "## Checking shape of an array"
   ]
  },
  {
   "cell_type": "code",
   "execution_count": 33,
   "id": "82878517",
   "metadata": {},
   "outputs": [
    {
     "name": "stdout",
     "output_type": "stream",
     "text": [
      "Shape of the array arr1 :  (9,)\n",
      "Shape of the array arr2 :  (3, 3)\n",
      "\n",
      "\n",
      "row of the array arr2 :  3\n",
      "column of the array arr2 :  3\n"
     ]
    }
   ],
   "source": [
    "print(\"Shape of the array arr1 : \",arr1.shape)\n",
    "print(\"Shape of the array arr2 : \",arr2.shape)\n",
    "print(\"\\n\")\n",
    "r,c=arr2.shape\n",
    "print(\"row of the array arr2 : \",r)\n",
    "print(\"column of the array arr2 : \",c)"
   ]
  },
  {
   "cell_type": "markdown",
   "id": "90d55f84",
   "metadata": {},
   "source": [
    "## convert ndarray to 1D array"
   ]
  },
  {
   "cell_type": "code",
   "execution_count": 37,
   "id": "433a4248",
   "metadata": {},
   "outputs": [
    {
     "name": "stdout",
     "output_type": "stream",
     "text": [
      "converting ndarray to 1D array : [1 2 3 4 5 6 7 8 9]\n"
     ]
    }
   ],
   "source": [
    "print(\"converting ndarray to 1D array :\",arr2.flatten())"
   ]
  },
  {
   "cell_type": "markdown",
   "id": "c471923e",
   "metadata": {},
   "source": [
    "## converting 1D array to ndarray"
   ]
  },
  {
   "cell_type": "code",
   "execution_count": 43,
   "id": "bc774271",
   "metadata": {},
   "outputs": [
    {
     "name": "stdout",
     "output_type": "stream",
     "text": [
      "converting 1D array to ndarray :\n",
      " [[1 2 3]\n",
      " [4 5 6]\n",
      " [7 8 9]]\n"
     ]
    }
   ],
   "source": [
    "print(\"converting 1D array to ndarray :\\n\",arr1.reshape(3,3))"
   ]
  },
  {
   "cell_type": "markdown",
   "id": "fcc232d5",
   "metadata": {},
   "source": [
    "## sum and product of array"
   ]
  },
  {
   "cell_type": "code",
   "execution_count": 44,
   "id": "8445ebd6",
   "metadata": {},
   "outputs": [
    {
     "name": "stdout",
     "output_type": "stream",
     "text": [
      "Sum of array elements :  45\n",
      "Product of array elements :  362880\n"
     ]
    }
   ],
   "source": [
    "print(\"Sum of array elements : \",arr1.sum())\n",
    "print(\"Product of array elements : \",arr1.prod())"
   ]
  },
  {
   "cell_type": "code",
   "execution_count": 48,
   "id": "9a394449",
   "metadata": {},
   "outputs": [
    {
     "name": "stdout",
     "output_type": "stream",
     "text": [
      "45\n",
      "362880\n"
     ]
    }
   ],
   "source": [
    "print(1+2+3+4+5+6+7+8+9)\n",
    "print(1*2*3*4*5*6*7*8*9)"
   ]
  },
  {
   "cell_type": "markdown",
   "id": "1778ad7d",
   "metadata": {},
   "source": [
    "## Max & Min of array element"
   ]
  },
  {
   "cell_type": "code",
   "execution_count": 49,
   "id": "1f0860ab",
   "metadata": {},
   "outputs": [
    {
     "name": "stdout",
     "output_type": "stream",
     "text": [
      "min of array elements :  1\n",
      "max of array elements :  9\n"
     ]
    }
   ],
   "source": [
    "print(\"min of array elements : \",arr1.min())\n",
    "print(\"max of array elements : \",arr1.max())"
   ]
  },
  {
   "cell_type": "markdown",
   "id": "c508459e",
   "metadata": {},
   "source": [
    "## sorting array"
   ]
  },
  {
   "cell_type": "code",
   "execution_count": 52,
   "id": "1d8899e6",
   "metadata": {},
   "outputs": [
    {
     "name": "stdout",
     "output_type": "stream",
     "text": [
      "sort of array elements :  [1 2 3 4 5 6 7 8 9]\n",
      "sort of array elements :  [1, 2, 3, 4, 5, 6, 7, 8, 9]\n"
     ]
    }
   ],
   "source": [
    "print(\"sort of array elements : \",np.sort(arr1))\n",
    "print(\"sort of array elements : \",sorted(arr1))"
   ]
  },
  {
   "cell_type": "markdown",
   "id": "6f2617ef",
   "metadata": {},
   "source": [
    "## mean ,median ,Varience ,standardDeviation"
   ]
  },
  {
   "cell_type": "code",
   "execution_count": 60,
   "id": "a6fec195",
   "metadata": {},
   "outputs": [
    {
     "name": "stdout",
     "output_type": "stream",
     "text": [
      "mean of array elements :  5.0\n",
      "median of array elements :  5.0\n",
      "varience of array elements :  6.666666666666667\n",
      "standard deviation of array elements :  2.581988897471611\n"
     ]
    }
   ],
   "source": [
    "print(\"mean of array elements : \",arr1.mean())\n",
    "print(\"median of array elements : \",np.median(arr1))\n",
    "# print(\"mode of array elements : \",arr1.mode())\n",
    "print(\"varience of array elements : \",arr1.var())\n",
    "print(\"standard deviation of array elements : \",arr1.std())"
   ]
  },
  {
   "cell_type": "markdown",
   "id": "ad368df2",
   "metadata": {},
   "source": [
    "## Array indexing and slicing "
   ]
  },
  {
   "cell_type": "code",
   "execution_count": 72,
   "id": "4b641fd1",
   "metadata": {},
   "outputs": [
    {
     "name": "stdout",
     "output_type": "stream",
     "text": [
      "arr1 :  [1 2 3 4 5 6 7 8 9]\n",
      "arr2 : \n",
      " [[1 2 3]\n",
      " [4 5 6]\n",
      " [7 8 9]]\n",
      "\n",
      "Indexing in array arr1 :  1\n",
      "Indexing in array arr2 :  [1 2 3]\n",
      "second row,two values :  [4 5]\n"
     ]
    }
   ],
   "source": [
    "print(\"arr1 : \",arr1)\n",
    "print(\"arr2 : \\n\",arr2)\n",
    "print(\"\\nIndexing in array arr1 : \",arr1[0])\n",
    "print(\"Indexing in array arr2 : \",arr2[0])\n",
    "print(\"second row,two values : \",arr2[1,:2])"
   ]
  },
  {
   "cell_type": "code",
   "execution_count": 80,
   "id": "dd8f560c",
   "metadata": {},
   "outputs": [
    {
     "name": "stdout",
     "output_type": "stream",
     "text": [
      "[[1 2 3]\n",
      " [4 5 6]\n",
      " [7 8 9]] \n",
      "\n",
      "Slicing using index\n",
      "[[5 6]\n",
      " [8 9]]\n",
      "Slicing using advanced index for column\n",
      "[[4 6]\n",
      " [7 9]]\n"
     ]
    }
   ],
   "source": [
    "print(arr2,\"\\n\")\n",
    "print('Slicing using index')\n",
    "z=arr2[1:3,1:3] #{row,column} - ranging technique \n",
    "print(z)\n",
    "y=arr2[1:3,[0,2]] #{row,[column numbers]}\n",
    "print('Slicing using advanced index for column')\n",
    "print(y)"
   ]
  },
  {
   "cell_type": "markdown",
   "id": "6208a9e2",
   "metadata": {},
   "source": [
    "# WAP to change the value of the following tuple"
   ]
  },
  {
   "cell_type": "markdown",
   "id": "619bddc4",
   "metadata": {},
   "source": [
    "### (1,2,3,4,6) : change 2 to 200"
   ]
  },
  {
   "cell_type": "code",
   "execution_count": 85,
   "id": "963f2729",
   "metadata": {},
   "outputs": [
    {
     "name": "stdout",
     "output_type": "stream",
     "text": [
      "(1, 200, 3, 4, 6)\n"
     ]
    }
   ],
   "source": [
    "a=(1,2,3,4,6)\n",
    "lsta=list(a)\n",
    "lsta[1]=200\n",
    "print(tuple(lsta))"
   ]
  },
  {
   "cell_type": "markdown",
   "id": "eb3c9337",
   "metadata": {},
   "source": [
    " ## Boolean array indexing "
   ]
  },
  {
   "cell_type": "code",
   "execution_count": 91,
   "id": "6df9178b",
   "metadata": {},
   "outputs": [
    {
     "name": "stdout",
     "output_type": "stream",
     "text": [
      "[False False False False  True  True]\n",
      "[6 7]\n",
      "[False False  True False  True  True]\n",
      "[4 6 7]\n"
     ]
    }
   ],
   "source": [
    "m=np.array([2,3,4,5,6,7])\n",
    "n=np.array([5,7,2,8,5,3])\n",
    "\n",
    "print(m>5)\n",
    "print(m[m>5])\n",
    "print(m>n)\n",
    "print(m[m>n])"
   ]
  },
  {
   "cell_type": "code",
   "execution_count": 102,
   "id": "0d95880f",
   "metadata": {},
   "outputs": [
    {
     "name": "stdout",
     "output_type": "stream",
     "text": [
      "number of true value\n",
      "3\n",
      "Alternate method :\n",
      "3\n"
     ]
    }
   ],
   "source": [
    "print(\"number of true value\")\n",
    "\n",
    "print(len(m[m>n]))\n",
    "print(\"Alternate method :\")\n",
    "print(list(m>n).count(True))"
   ]
  },
  {
   "cell_type": "markdown",
   "id": "17319808",
   "metadata": {},
   "source": [
    "## creation of array using command"
   ]
  },
  {
   "cell_type": "code",
   "execution_count": 94,
   "id": "99fb0d78",
   "metadata": {},
   "outputs": [
    {
     "name": "stdout",
     "output_type": "stream",
     "text": [
      "[0 1 2 3 4 5 6 7 8 9] \n",
      "\n"
     ]
    }
   ],
   "source": [
    "c=np.array(range(10),int)\n",
    "print(c,\"\\n\")"
   ]
  },
  {
   "cell_type": "markdown",
   "id": "b566f7df",
   "metadata": {},
   "source": [
    "## creation of array with all ones"
   ]
  },
  {
   "cell_type": "code",
   "execution_count": 95,
   "id": "022b4ca1",
   "metadata": {},
   "outputs": [
    {
     "name": "stdout",
     "output_type": "stream",
     "text": [
      "[[1. 1. 1. 1. 1. 1. 1.]\n",
      " [1. 1. 1. 1. 1. 1. 1.]\n",
      " [1. 1. 1. 1. 1. 1. 1.]\n",
      " [1. 1. 1. 1. 1. 1. 1.]\n",
      " [1. 1. 1. 1. 1. 1. 1.]\n",
      " [1. 1. 1. 1. 1. 1. 1.]]\n"
     ]
    }
   ],
   "source": [
    "print(np.ones((6,7)))"
   ]
  },
  {
   "cell_type": "markdown",
   "id": "b1ba7892",
   "metadata": {},
   "source": [
    "## creation of array with all zeros"
   ]
  },
  {
   "cell_type": "code",
   "execution_count": 98,
   "id": "a47b7134",
   "metadata": {},
   "outputs": [
    {
     "name": "stdout",
     "output_type": "stream",
     "text": [
      "[[0. 0. 0. 0. 0. 0. 0.]\n",
      " [0. 0. 0. 0. 0. 0. 0.]\n",
      " [0. 0. 0. 0. 0. 0. 0.]\n",
      " [0. 0. 0. 0. 0. 0. 0.]\n",
      " [0. 0. 0. 0. 0. 0. 0.]\n",
      " [0. 0. 0. 0. 0. 0. 0.]]\n"
     ]
    }
   ],
   "source": [
    "print(np.zeros((6,7)))"
   ]
  },
  {
   "cell_type": "markdown",
   "id": "79b1d4ab",
   "metadata": {},
   "source": [
    "## creation of array with identiti matrix"
   ]
  },
  {
   "cell_type": "code",
   "execution_count": 100,
   "id": "f9d6fd31",
   "metadata": {},
   "outputs": [
    {
     "name": "stdout",
     "output_type": "stream",
     "text": [
      "[[1. 0. 0. 0.]\n",
      " [0. 1. 0. 0.]\n",
      " [0. 0. 1. 0.]\n",
      " [0. 0. 0. 1.]]\n"
     ]
    }
   ],
   "source": [
    "print(np.identity(4))"
   ]
  },
  {
   "cell_type": "markdown",
   "id": "718e6856",
   "metadata": {},
   "source": [
    "## linspace"
   ]
  },
  {
   "cell_type": "code",
   "execution_count": 112,
   "id": "16a2c75e",
   "metadata": {},
   "outputs": [
    {
     "name": "stdout",
     "output_type": "stream",
     "text": [
      "(array([2. , 2.2, 2.4, 2.6, 2.8]), 0.2)\n"
     ]
    }
   ],
   "source": [
    "print(np.linspace(2,3,num=5,endpoint=False,retstep=True))"
   ]
  },
  {
   "cell_type": "code",
   "execution_count": 121,
   "id": "dca43cc9",
   "metadata": {},
   "outputs": [
    {
     "name": "stdout",
     "output_type": "stream",
     "text": [
      "(array([ 2,  4,  6,  8, 10]), 2.0)\n"
     ]
    }
   ],
   "source": [
    "print(np.linspace(2,10,num=5,retstep=True,dtype=int))"
   ]
  },
  {
   "cell_type": "code",
   "execution_count": 124,
   "id": "a3b42874",
   "metadata": {},
   "outputs": [
    {
     "name": "stdout",
     "output_type": "stream",
     "text": [
      "[[10.5 10.5 10.5]\n",
      " [10.5 10.5 10.5]\n",
      " [10.5 10.5 10.5]]\n"
     ]
    }
   ],
   "source": [
    "print(np.full([3,3],10.5,dtype=float))"
   ]
  },
  {
   "cell_type": "markdown",
   "id": "b4d54268",
   "metadata": {},
   "source": [
    "# hstack ,vstack ,concatenate"
   ]
  },
  {
   "cell_type": "code",
   "execution_count": 146,
   "id": "acdc4648",
   "metadata": {},
   "outputs": [
    {
     "name": "stdout",
     "output_type": "stream",
     "text": [
      "hstack :\n",
      " [1 2 3 4 5 6 7 8]\n",
      "vstack :\n",
      " [[1 2 3 4]\n",
      " [5 6 7 8]]\n",
      "concatenate :\n",
      " [1 2 3 4 5 6 7 8]\n",
      "concatenate 2D array at axis 0 (vertical) :\n",
      " [[ 9 10 11 12]\n",
      " [ 5  6  7  8]\n",
      " [ 1  2  3  4]\n",
      " [ 9 10 11 12]]\n",
      "concatenate 2D array at axis 1 (horizontal):\n",
      " [[ 9 10 11 12  1  2  3  4]\n",
      " [ 5  6  7  8  9 10 11 12]]\n"
     ]
    }
   ],
   "source": [
    "i=np.array([1,2,3,4])\n",
    "j=np.array([5,6,7,8])\n",
    "\n",
    "k=np.array([[9,10,11,12],[5,6,7,8]])\n",
    "l=np.array([[1,2,3,4],[9,10,11,12]])\n",
    "\n",
    "print(\"hstack :\\n\",np.hstack((i,j)))\n",
    "print(\"vstack :\\n\",np.vstack((i,j)))\n",
    "\n",
    "print(\"concatenate :\\n\",np.concatenate(((i,j)),axis=0))\n",
    "\n",
    "print(\"concatenate 2D array at axis 0 (vertical) :\\n\",np.concatenate(((k,l)),axis=0))\n",
    "print(\"concatenate 2D array at axis 1 (horizontal):\\n\",np.concatenate(((k,l)),axis=1))"
   ]
  },
  {
   "cell_type": "markdown",
   "id": "e2f9eb2f",
   "metadata": {},
   "source": [
    "## Unique values"
   ]
  },
  {
   "cell_type": "code",
   "execution_count": 147,
   "id": "deb5fbdf",
   "metadata": {},
   "outputs": [
    {
     "name": "stdout",
     "output_type": "stream",
     "text": [
      "Unique Element values :  [1 2 3]\n",
      "Unique Element values :  [1 2 3]\n",
      "Unique Element index :  [0 2 4]\n",
      "Unique Element values :  [1 2 3 4 6]\n",
      "Actual Element index :  [0 1 4 3 1 2 1]\n",
      "Reconstruct array :  [1 2 6 4 2 3 2]\n"
     ]
    }
   ],
   "source": [
    "arr8 = np.array([1,1,2,2,3,3])\n",
    "arr8uniq =np.unique(arr8)\n",
    "print(\"Unique Element values : \",arr8uniq)\n",
    "\n",
    "arr8uniq,indx=np.unique(arr8, return_index=True)\n",
    "print(\"Unique Element values : \",arr8uniq)\n",
    "print(\"Unique Element index : \",indx)\n",
    "\n",
    "arr9 = np.array([1,2,6,4,2,3,2])\n",
    "arr9uniq,indx = np.unique(arr9,return_inverse=True)\n",
    "print(\"Unique Element values : \",arr9uniq)\n",
    "print(\"Actual Element index : \",indx)\n",
    "print(\"Reconstruct array : \",arr9uniq[indx])"
   ]
  },
  {
   "cell_type": "markdown",
   "id": "67a67559",
   "metadata": {},
   "source": [
    "## create an array first"
   ]
  },
  {
   "cell_type": "markdown",
   "id": "feac0f80",
   "metadata": {},
   "source": [
    "[[1,2,3,4],[9,5,2,4],[9,3,5,6],[3,6,2,3]]"
   ]
  },
  {
   "cell_type": "markdown",
   "id": "59aeb66f",
   "metadata": {},
   "source": [
    "1. Replace the following subset with all 1 : [[5,2], [3,5]]\n",
    "2. Find the sum of 3rd colum\n",
    "3. Replace all ODD numbers with -1"
   ]
  },
  {
   "cell_type": "code",
   "execution_count": null,
   "id": "a9cff170",
   "metadata": {},
   "outputs": [],
   "source": []
  }
 ],
 "metadata": {
  "kernelspec": {
   "display_name": "Python 3 (ipykernel)",
   "language": "python",
   "name": "python3"
  },
  "language_info": {
   "codemirror_mode": {
    "name": "ipython",
    "version": 3
   },
   "file_extension": ".py",
   "mimetype": "text/x-python",
   "name": "python",
   "nbconvert_exporter": "python",
   "pygments_lexer": "ipython3",
   "version": "3.9.7"
  }
 },
 "nbformat": 4,
 "nbformat_minor": 5
}
