{
 "cells": [
  {
   "cell_type": "code",
   "execution_count": null,
   "id": "af947eea",
   "metadata": {},
   "outputs": [],
   "source": [
    "afterrename=data.rename(columns={'age':'Age','bp':'Blood pressure','sg':'Specific gravity','al':'Albumin','su':'Sugar','rbc':'Red blood cells','pc':'Pus cell','pcc':'pus cell clumps','ba':'Bacteria','bgr':'Blood glucose random','bu':'Blood urea','sc':'Serum creatinine','sod':'Sodium','pot':'Potassium','hemo':'Hemoglobin','pcv':'Packed cell volume','wc':'White blood cell count','rc':'Red blood cell count','htn':'Hypertension','dm':'Diabetes mellitus','cad':'Coronary artery disease','appet':'Appetite','pe':'Pedal edema','ane':'Anemia','class':'Class'})"
   ]
  }
 ],
 "metadata": {
  "kernelspec": {
   "display_name": "Python 3 (ipykernel)",
   "language": "python",
   "name": "python3"
  },
  "language_info": {
   "codemirror_mode": {
    "name": "ipython",
    "version": 3
   },
   "file_extension": ".py",
   "mimetype": "text/x-python",
   "name": "python",
   "nbconvert_exporter": "python",
   "pygments_lexer": "ipython3",
   "version": "3.9.7"
  }
 },
 "nbformat": 4,
 "nbformat_minor": 5
}
